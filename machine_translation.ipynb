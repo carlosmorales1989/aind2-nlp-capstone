{
 "cells": [
  {
   "cell_type": "markdown",
   "metadata": {
    "collapsed": true
   },
   "source": [
    "# Artificial Intelligence Nanodegree\n",
    "## Machine Translation Project\n",
    "In this notebook, sections that end with **'(IMPLEMENTATION)'** in the header indicate that the following blocks of code will require additional functionality which you must provide. Please be sure to read the instructions carefully!\n",
    "\n",
    "## Introduction\n",
    "In this notebook, you will build a deep neural network that functions as part of an end-to-end machine translation pipeline. Your completed pipeline will accept English text as input and return the French translation.\n",
    "\n",
    "- **Preprocess** - You'll convert text to sequence of integers.\n",
    "- **Models** Create models which accepts a sequence of integers as input and returns a probability distribution over possible translations. After learning about the basic types of neural networks that are often used for machine translation, you will engage in your own investigations, to design your own model!\n",
    "- **Prediction** Run the model on English text.\n",
    "\n",
    "## Dataset\n",
    "We begin by investigating the dataset that will be used to train and evaluate your pipeline.  The most common datasets used for machine translation are from [WMT](http://www.statmt.org/).  However, that will take a long time to train a neural network on.  We'll be using a dataset we created for this project that contains a small vocabulary.  You'll be able to train your model in a reasonable time with this dataset.\n",
    "### Load Data\n",
    "The data is located in `data/small_vocab_en` and `data/small_vocab_fr`. The `small_vocab_en` file contains English sentences with their French translations in the `small_vocab_fr` file. Load the English and French data from these files from running the cell below."
   ]
  },
  {
   "cell_type": "code",
   "execution_count": 1,
   "metadata": {},
   "outputs": [
    {
     "name": "stdout",
     "output_type": "stream",
     "text": [
      "Dataset Loaded\n"
     ]
    }
   ],
   "source": [
    "import helper\n",
    "\n",
    "\n",
    "# Load English data\n",
    "english_sentences = helper.load_data('data/small_vocab_en')\n",
    "# Load French data\n",
    "french_sentences = helper.load_data('data/small_vocab_fr')\n",
    "\n",
    "print('Dataset Loaded')"
   ]
  },
  {
   "cell_type": "markdown",
   "metadata": {},
   "source": [
    "### Files\n",
    "Each line in `small_vocab_en` contains an English sentence with the respective translation in each line of `small_vocab_fr`.  View the first two lines from each file."
   ]
  },
  {
   "cell_type": "code",
   "execution_count": 2,
   "metadata": {},
   "outputs": [
    {
     "name": "stdout",
     "output_type": "stream",
     "text": [
      "small_vocab_en Line 1:  new jersey is sometimes quiet during autumn , and it is snowy in april .\n",
      "small_vocab_fr Line 1:  new jersey est parfois calme pendant l' automne , et il est neigeux en avril .\n",
      "small_vocab_en Line 2:  the united states is usually chilly during july , and it is usually freezing in november .\n",
      "small_vocab_fr Line 2:  les états-unis est généralement froid en juillet , et il gèle habituellement en novembre .\n"
     ]
    }
   ],
   "source": [
    "for sample_i in range(2):\n",
    "    print('small_vocab_en Line {}:  {}'.format(sample_i + 1, english_sentences[sample_i]))\n",
    "    print('small_vocab_fr Line {}:  {}'.format(sample_i + 1, french_sentences[sample_i]))"
   ]
  },
  {
   "cell_type": "markdown",
   "metadata": {},
   "source": [
    "From looking at the sentences, you can see they have been preprocessed already.  The puncuations have been delimited using spaces. All the text have been converted to lowercase.  This should save you some time, but the text requires more preprocessing.\n",
    "### Vocabulary\n",
    "The complexity of the problem is determined by the complexity of the vocabulary.  A more complex vocabulary is a more complex problem.  Let's look at the complexity of the dataset we'll be working with."
   ]
  },
  {
   "cell_type": "code",
   "execution_count": 3,
   "metadata": {},
   "outputs": [
    {
     "name": "stdout",
     "output_type": "stream",
     "text": [
      "1823250 English words.\n",
      "227 unique English words.\n",
      "10 Most common words in the English dataset:\n",
      "\"is\" \",\" \".\" \"in\" \"it\" \"during\" \"the\" \"but\" \"and\" \"sometimes\"\n",
      "\n",
      "1961295 French words.\n",
      "355 unique French words.\n",
      "10 Most common words in the French dataset:\n",
      "\"est\" \".\" \",\" \"en\" \"il\" \"les\" \"mais\" \"et\" \"la\" \"parfois\"\n"
     ]
    }
   ],
   "source": [
    "import collections\n",
    "\n",
    "\n",
    "english_words_counter = collections.Counter([word for sentence in english_sentences for word in sentence.split()])\n",
    "french_words_counter = collections.Counter([word for sentence in french_sentences for word in sentence.split()])\n",
    "\n",
    "print('{} English words.'.format(len([word for sentence in english_sentences for word in sentence.split()])))\n",
    "print('{} unique English words.'.format(len(english_words_counter)))\n",
    "print('10 Most common words in the English dataset:')\n",
    "print('\"' + '\" \"'.join(list(zip(*english_words_counter.most_common(10)))[0]) + '\"')\n",
    "print()\n",
    "print('{} French words.'.format(len([word for sentence in french_sentences for word in sentence.split()])))\n",
    "print('{} unique French words.'.format(len(french_words_counter)))\n",
    "print('10 Most common words in the French dataset:')\n",
    "print('\"' + '\" \"'.join(list(zip(*french_words_counter.most_common(10)))[0]) + '\"')"
   ]
  },
  {
   "cell_type": "markdown",
   "metadata": {},
   "source": [
    "For comparison, _Alice's Adventures in Wonderland_ contains 2,766 unique words of a total of 15,500 words.\n",
    "## Preprocess\n",
    "For this project, you won't use text data as input to your model. Instead, you'll convert the text into sequences of integers using the following preprocess methods:\n",
    "1. Tokenize the words into ids\n",
    "2. Add padding to make all the sequences the same length.\n",
    "\n",
    "Time to start preprocessing the data...\n",
    "### Tokenize (IMPLEMENTATION)\n",
    "For a neural network to predict on text data, it first has to be turned into data it can understand. Text data like \"dog\" is a sequence of ASCII character encodings.  Since a neural network is a series of multiplication and addition operations, the input data needs to be number(s).\n",
    "\n",
    "We can turn each character into a number or each word into a number.  These are called character and word ids, respectively.  Character ids are used for character level models that generate text predictions for each character.  A word level model uses word ids that generate text predictions for each word.  Word level models tend to learn better, since they are lower in complexity, so we'll use those.\n",
    "\n",
    "Turn each sentence into a sequence of words ids using Keras's [`Tokenizer`](https://keras.io/preprocessing/text/#tokenizer) function. Use this function to tokenize `english_sentences` and `french_sentences` in the cell below.\n",
    "\n",
    "Running the cell will run `tokenize` on sample data and show output for debugging."
   ]
  },
  {
   "cell_type": "code",
   "execution_count": 4,
   "metadata": {},
   "outputs": [
    {
     "name": "stderr",
     "output_type": "stream",
     "text": [
      "Using TensorFlow backend.\n"
     ]
    },
    {
     "name": "stdout",
     "output_type": "stream",
     "text": [
      "{'the': 1, 'quick': 2, 'a': 3, 'brown': 4, 'fox': 5, 'jumps': 6, 'over': 7, 'lazy': 8, 'dog': 9, 'by': 10, 'jove': 11, 'my': 12, 'study': 13, 'of': 14, 'lexicography': 15, 'won': 16, 'prize': 17, 'this': 18, 'is': 19, 'short': 20, 'sentence': 21}\n",
      "\n",
      "Sequence 1 in x\n",
      "  Input:  The quick brown fox jumps over the lazy dog .\n",
      "  Output: [1, 2, 4, 5, 6, 7, 1, 8, 9]\n",
      "Sequence 2 in x\n",
      "  Input:  By Jove , my quick study of lexicography won a prize .\n",
      "  Output: [10, 11, 12, 2, 13, 14, 15, 16, 3, 17]\n",
      "Sequence 3 in x\n",
      "  Input:  This is a short sentence .\n",
      "  Output: [18, 19, 3, 20, 21]\n"
     ]
    }
   ],
   "source": [
    "import project_tests as tests\n",
    "from keras.preprocessing.text import Tokenizer\n",
    "\n",
    "\n",
    "def tokenize(x):\n",
    "    \"\"\"\n",
    "    Tokenize x\n",
    "    :param x: List of sentences/strings to be tokenized\n",
    "    :return: Tuple of (tokenized x data, tokenizer used to tokenize x)\n",
    "    \"\"\"\n",
    "    tokenizador = Tokenizer(lower=True)\n",
    "    tokenizador.fit_on_texts(x)\n",
    "    return tokenizador.texts_to_sequences(x), tokenizador\n",
    "tests.test_tokenize(tokenize)\n",
    "\n",
    "# Tokenize Example output\n",
    "text_sentences = [\n",
    "    'The quick brown fox jumps over the lazy dog .',\n",
    "    'By Jove , my quick study of lexicography won a prize .',\n",
    "    'This is a short sentence .']\n",
    "text_tokenized, text_tokenizer = tokenize(text_sentences)\n",
    "print(text_tokenizer.word_index)\n",
    "print()\n",
    "for sample_i, (sent, token_sent) in enumerate(zip(text_sentences, text_tokenized)):\n",
    "    print('Sequence {} in x'.format(sample_i + 1))\n",
    "    print('  Input:  {}'.format(sent))\n",
    "    print('  Output: {}'.format(token_sent))"
   ]
  },
  {
   "cell_type": "markdown",
   "metadata": {},
   "source": [
    "### Padding (IMPLEMENTATION)\n",
    "When batching the sequence of word ids together, each sequence needs to be the same length.  Since sentences are dynamic in length, we can add padding to the end of the sequences to make them the same length.\n",
    "\n",
    "Make sure all the English sequences have the same length and all the French sequences have the same length by adding padding to the **end** of each sequence using Keras's [`pad_sequences`](https://keras.io/preprocessing/sequence/#pad_sequences) function."
   ]
  },
  {
   "cell_type": "code",
   "execution_count": 5,
   "metadata": {},
   "outputs": [
    {
     "name": "stdout",
     "output_type": "stream",
     "text": [
      "Sequence 1 in x\n",
      "  Input:  [1 2 4 5 6 7 1 8 9]\n",
      "  Output: [1 2 4 5 6 7 1 8 9 0]\n",
      "Sequence 2 in x\n",
      "  Input:  [10 11 12  2 13 14 15 16  3 17]\n",
      "  Output: [10 11 12  2 13 14 15 16  3 17]\n",
      "Sequence 3 in x\n",
      "  Input:  [18 19  3 20 21]\n",
      "  Output: [18 19  3 20 21  0  0  0  0  0]\n"
     ]
    }
   ],
   "source": [
    "import numpy as np\n",
    "import project_tests as tests\n",
    "from keras.preprocessing.sequence import pad_sequences\n",
    "\n",
    "\n",
    "def pad(x, length=None):\n",
    "    \"\"\"\n",
    "    Pad x\n",
    "    :param x: List of sequences.\n",
    "    :param length: Length to pad the sequence to.  If None, use length of longest sequence in x.\n",
    "    :return: Padded numpy array of sequences\n",
    "    \"\"\"\n",
    "    # TODO: Implement  \n",
    "    return pad_sequences(x,length, padding='post')\n",
    "tests.test_pad(pad)\n",
    "\n",
    "# Pad Tokenized output\n",
    "test_pad = pad(text_tokenized)\n",
    "for sample_i, (token_sent, pad_sent) in enumerate(zip(text_tokenized, test_pad)):\n",
    "    print('Sequence {} in x'.format(sample_i + 1))\n",
    "    print('  Input:  {}'.format(np.array(token_sent)))\n",
    "    print('  Output: {}'.format(pad_sent))"
   ]
  },
  {
   "cell_type": "markdown",
   "metadata": {},
   "source": [
    "### Preprocess Pipeline\n",
    "Your focus for this project is to build neural network architecture, so we won't ask you to create a preprocess pipeline.  Instead, we've provided you with the implementation of the `preprocess` function."
   ]
  },
  {
   "cell_type": "code",
   "execution_count": 6,
   "metadata": {},
   "outputs": [
    {
     "name": "stdout",
     "output_type": "stream",
     "text": [
      "Data Preprocessed\n"
     ]
    }
   ],
   "source": [
    "def preprocess(x, y):\n",
    "    \"\"\"\n",
    "    Preprocess x and y\n",
    "    :param x: Feature List of sentences\n",
    "    :param y: Label List of sentences\n",
    "    :return: Tuple of (Preprocessed x, Preprocessed y, x tokenizer, y tokenizer)\n",
    "    \"\"\"\n",
    "    preprocess_x, x_tk = tokenize(x)\n",
    "    preprocess_y, y_tk = tokenize(y)\n",
    "\n",
    "    preprocess_x = pad(preprocess_x)\n",
    "    preprocess_y = pad(preprocess_y)\n",
    "\n",
    "    # Keras's sparse_categorical_crossentropy function requires the labels to be in 3 dimensions\n",
    "    preprocess_y = preprocess_y.reshape(*preprocess_y.shape, 1)\n",
    "\n",
    "    return preprocess_x, preprocess_y, x_tk, y_tk\n",
    "\n",
    "preproc_english_sentences, preproc_french_sentences, english_tokenizer, french_tokenizer =\\\n",
    "    preprocess(english_sentences, french_sentences)\n",
    "\n",
    "print('Data Preprocessed')"
   ]
  },
  {
   "cell_type": "markdown",
   "metadata": {},
   "source": [
    "## Models\n",
    "In this section, you will experiment with various neural network architectures.\n",
    "You will begin by training four relatively simple architectures.\n",
    "- Model 1 is a simple RNN\n",
    "- Model 2 is a RNN with Embedding\n",
    "- Model 3 is a Bidirectional RNN\n",
    "- Model 4 is an optional Encoder-Decoder RNN\n",
    "\n",
    "After experimenting with the four simple architectures, you will construct a deeper architecture that is designed to outperform all four models.\n",
    "### Ids Back to Text\n",
    "The neural network will be translating the input to words ids, which isn't the final form we want.  We want the French translation.  The function `logits_to_text` will bridge the gab between the logits from the neural network to the French translation.  You'll be using this function to better understand the output of the neural network."
   ]
  },
  {
   "cell_type": "code",
   "execution_count": 7,
   "metadata": {},
   "outputs": [
    {
     "name": "stdout",
     "output_type": "stream",
     "text": [
      "`logits_to_text` function loaded.\n"
     ]
    }
   ],
   "source": [
    "def logits_to_text(logits, tokenizer):\n",
    "    \"\"\"\n",
    "    Turn logits from a neural network into text using the tokenizer\n",
    "    :param logits: Logits from a neural network\n",
    "    :param tokenizer: Keras Tokenizer fit on the labels\n",
    "    :return: String that represents the text of the logits\n",
    "    \"\"\"\n",
    "    index_to_words = {id: word for word, id in tokenizer.word_index.items()}\n",
    "    index_to_words[0] = '<PAD>'\n",
    "\n",
    "    return ' '.join([index_to_words[prediction] for prediction in np.argmax(logits, 1)])\n",
    "\n",
    "print('`logits_to_text` function loaded.')"
   ]
  },
  {
   "cell_type": "markdown",
   "metadata": {},
   "source": [
    "### Model 1: RNN (IMPLEMENTATION)\n",
    "![RNN](images/rnn.png)\n",
    "A basic RNN model is a good baseline for sequence data.  In this model, you'll build a RNN that translates English to French."
   ]
  },
  {
   "cell_type": "code",
   "execution_count": 150,
   "metadata": {},
   "outputs": [
    {
     "name": "stdout",
     "output_type": "stream",
     "text": [
      "Train on 110288 samples, validate on 27573 samples\n",
      "Epoch 1/10\n",
      "110288/110288 [==============================] - 356s - loss: 1.8287 - acc: 0.5638 - val_loss: 1.3341 - val_acc: 0.6192\n",
      "Epoch 2/10\n",
      "110288/110288 [==============================] - 351s - loss: 1.2305 - acc: 0.6390 - val_loss: 1.1390 - val_acc: 0.6529\n",
      "Epoch 3/10\n",
      "110288/110288 [==============================] - 351s - loss: 1.0885 - acc: 0.6674 - val_loss: 1.0395 - val_acc: 0.6770\n",
      "Epoch 4/10\n",
      "110288/110288 [==============================] - 353s - loss: 1.0050 - acc: 0.6814 - val_loss: 0.9741 - val_acc: 0.6845\n",
      "Epoch 5/10\n",
      "110288/110288 [==============================] - 355s - loss: 0.9516 - acc: 0.6918 - val_loss: 0.9299 - val_acc: 0.6989\n",
      "Epoch 6/10\n",
      "110288/110288 [==============================] - 357s - loss: 0.9098 - acc: 0.7012 - val_loss: 0.8939 - val_acc: 0.7066\n",
      "Epoch 7/10\n",
      "110288/110288 [==============================] - 358s - loss: 0.8725 - acc: 0.7102 - val_loss: 0.8498 - val_acc: 0.7168\n",
      "Epoch 8/10\n",
      "110288/110288 [==============================] - 360s - loss: 0.8361 - acc: 0.7192 - val_loss: 0.8542 - val_acc: 0.7151\n",
      "Epoch 9/10\n",
      "110288/110288 [==============================] - 362s - loss: 0.8059 - acc: 0.7281 - val_loss: 0.7932 - val_acc: 0.7333\n",
      "Epoch 10/10\n",
      "110288/110288 [==============================] - 365s - loss: 0.7763 - acc: 0.7381 - val_loss: 0.7593 - val_acc: 0.7407\n",
      "new jersey est parfois chaud en l' de il et il est en en <PAD> <PAD> <PAD> <PAD> <PAD> <PAD> <PAD>\n"
     ]
    }
   ],
   "source": [
    "from keras.layers import GRU, Input, Dense, TimeDistributed\n",
    "from keras.models import Model, Sequential\n",
    "from keras.layers import Activation, SimpleRNN\n",
    "from keras.optimizers import Adam\n",
    "from keras.losses import sparse_categorical_crossentropy\n",
    "\n",
    "\n",
    "def simple_model(input_shape, output_sequence_length, english_vocab_size, french_vocab_size):\n",
    "    \"\"\"\n",
    "    Build and train a basic RNN on x and y\n",
    "    :param input_shape: Tuple of input shape\n",
    "    :param output_sequence_length: Length of output sequence\n",
    "    :param english_vocab_size: Number of unique English words in the dataset\n",
    "    :param french_vocab_size: Number of unique French words in the dataset\n",
    "    :return: Keras model built, but not trained\n",
    "    \"\"\"\n",
    "    # TODO: Build the layers\n",
    "    model = Sequential()\n",
    "    model.add(GRU(256, input_shape=input_shape[1:], return_sequences = True))\n",
    "    model.add(TimeDistributed(Dense(512)))\n",
    "    model.add(TimeDistributed(Dense(french_vocab_size, activation = 'softmax')))\n",
    "    learning_rate = 0.001\n",
    "    model.compile(loss=sparse_categorical_crossentropy,\n",
    "                  optimizer=Adam(learning_rate),\n",
    "                  metrics=['accuracy'])\n",
    "    return model\n",
    "tests.test_simple_model(simple_model)\n",
    "\n",
    "\n",
    "# Reshaping the input to work with a basic RNN\n",
    "tmp_x = pad(preproc_english_sentences, preproc_french_sentences.shape[1])\n",
    "tmp_x = tmp_x.reshape((-1, preproc_french_sentences.shape[-2], 1))\n",
    "\n",
    "# Train the neural network\n",
    "simple_rnn_model = simple_model(\n",
    "    tmp_x.shape,\n",
    "    preproc_french_sentences.shape[1],\n",
    "    len(english_tokenizer.word_index)+1,\n",
    "    len(french_tokenizer.word_index)+1)\n",
    "simple_rnn_model.fit(tmp_x, preproc_french_sentences, batch_size=512, epochs=10, validation_split=0.2)\n",
    "\n",
    "# Print prediction(s)\n",
    "print(logits_to_text(simple_rnn_model.predict(tmp_x[:1])[0], french_tokenizer))"
   ]
  },
  {
   "cell_type": "code",
   "execution_count": 25,
   "metadata": {},
   "outputs": [
    {
     "name": "stdout",
     "output_type": "stream",
     "text": [
      "états citron est son fruit préféré plus mais la la est est moins plus aimé <PAD> <PAD> <PAD> <PAD> <PAD> <PAD>\n"
     ]
    }
   ],
   "source": [
    "print(logits_to_text(simple_rnn_model.predict(tmp_x[10:20])[0], french_tokenizer))"
   ]
  },
  {
   "cell_type": "markdown",
   "metadata": {},
   "source": [
    "### Model 2: Embedding (IMPLEMENTATION)\n",
    "![RNN](images/embedding.png)\n",
    "You've turned the words into ids, but there's a better representation of a word.  This is called word embeddings.  An embedding is a vector representation of the word that is close to similar words in n-dimensional space, where the n represents the size of the embedding vectors.\n",
    "\n",
    "In this model, you'll create a RNN model using embedding."
   ]
  },
  {
   "cell_type": "code",
   "execution_count": 28,
   "metadata": {},
   "outputs": [
    {
     "data": {
      "text/plain": [
       "21"
      ]
     },
     "execution_count": 28,
     "metadata": {},
     "output_type": "execute_result"
    }
   ],
   "source": [
    "pad(preproc_english_sentences, preproc_french_sentences.shape[1]).shape[1]"
   ]
  },
  {
   "cell_type": "code",
   "execution_count": 47,
   "metadata": {},
   "outputs": [
    {
     "name": "stdout",
     "output_type": "stream",
     "text": [
      "Train on 110288 samples, validate on 27573 samples\n",
      "Epoch 1/10\n",
      "110288/110288 [==============================] - 446s - loss: 3.8336 - acc: 0.4480 - val_loss: 2.5279 - val_acc: 0.5239\n",
      "Epoch 2/10\n",
      "110288/110288 [==============================] - 447s - loss: 2.0025 - acc: 0.5776 - val_loss: 1.5626 - val_acc: 0.6393\n",
      "Epoch 3/10\n",
      "110288/110288 [==============================] - 447s - loss: 1.2879 - acc: 0.6990 - val_loss: 1.0061 - val_acc: 0.7638\n",
      "Epoch 4/10\n",
      "110288/110288 [==============================] - 446s - loss: 0.8059 - acc: 0.8075 - val_loss: 0.6367 - val_acc: 0.8422\n",
      "Epoch 5/10\n",
      "110288/110288 [==============================] - 446s - loss: 0.5345 - acc: 0.8600 - val_loss: 0.4595 - val_acc: 0.8746\n",
      "Epoch 6/10\n",
      "110288/110288 [==============================] - 446s - loss: 0.4112 - acc: 0.8835 - val_loss: 0.3710 - val_acc: 0.8931\n",
      "Epoch 7/10\n",
      "110288/110288 [==============================] - 446s - loss: 0.3534 - acc: 0.8958 - val_loss: 0.3359 - val_acc: 0.9000\n",
      "Epoch 8/10\n",
      "110288/110288 [==============================] - 446s - loss: 0.3195 - acc: 0.9033 - val_loss: 0.3071 - val_acc: 0.9076\n",
      "Epoch 9/10\n",
      "110288/110288 [==============================] - 446s - loss: 0.2950 - acc: 0.9095 - val_loss: 0.2909 - val_acc: 0.9114\n",
      "Epoch 10/10\n",
      "110288/110288 [==============================] - 446s - loss: 0.2759 - acc: 0.9141 - val_loss: 0.2713 - val_acc: 0.9168\n",
      "new jersey est parfois calme en l' automne et il est neigeux en avril <PAD> <PAD> <PAD> <PAD> <PAD> <PAD> <PAD>\n"
     ]
    }
   ],
   "source": [
    "from keras.layers.embeddings import Embedding\n",
    "\n",
    "\n",
    "def embed_model(input_shape, output_sequence_length, english_vocab_size, french_vocab_size):\n",
    "    \"\"\"\n",
    "    Build and train a RNN model using word embedding on x and y\n",
    "    :param input_shape: Tuple of input shape\n",
    "    :param output_sequence_length: Length of output sequence\n",
    "    :param english_vocab_size: Number of unique English words in the dataset\n",
    "    :param french_vocab_size: Number of unique French words in the dataset\n",
    "    :return: Keras model built, but not trained\n",
    "    \"\"\"\n",
    "    # TODO: Implement\n",
    "    model = Sequential()\n",
    "    #model.add(SimpleRNN(output_sequence_length,activation=None, input_shape=input_shape[1:], return_sequences = True))\n",
    "    model.add(Embedding(english_vocab_size+1,output_sequence_length, input_length=input_shape[1]))\n",
    "    model.add(GRU(french_vocab_size,activation=None, input_shape=input_shape[1:], return_sequences = True))\n",
    "    ##model.add(Dense(french_vocab_size))\n",
    "    model.add(Activation('softmax'))\n",
    "    #learning_rate=0.1\n",
    "    learning_rate = 0.005\n",
    "    model.compile(loss=sparse_categorical_crossentropy,\n",
    "                  optimizer=Adam(learning_rate),\n",
    "                  metrics=['accuracy'])\n",
    "    return model\n",
    "tests.test_embed_model(embed_model)\n",
    "\n",
    "tmp_x = pad(preproc_english_sentences, preproc_french_sentences.shape[1])\n",
    "tmp_x = tmp_x.reshape((-1, preproc_french_sentences.shape[-2],1))\n",
    "\n",
    "# Train the neural network\n",
    "embed_rnn_model = embed_model(\n",
    "    tmp_x.shape,\n",
    "    preproc_french_sentences.shape[1],\n",
    "    len(english_tokenizer.word_index)+1,\n",
    "    len(french_tokenizer.word_index)+1)\n",
    "embed_rnn_model.fit(tmp_x, preproc_french_sentences, batch_size=1024, epochs=10, validation_split=0.2)\n",
    "\n",
    "# Print prediction(s)\n",
    "print(logits_to_text(embed_rnn_model.predict(tmp_x[:1])[0], french_tokenizer))\n",
    "\n",
    "# TODO: Reshape the input\n",
    "\n",
    "# TODO: Train the neural network\n",
    "\n",
    "# TODO: Print prediction(s)"
   ]
  },
  {
   "cell_type": "code",
   "execution_count": 56,
   "metadata": {},
   "outputs": [
    {
     "name": "stdout",
     "output_type": "stream",
     "text": [
      "les chaux est son fruit aimé des fruits mais la banane est moins moins <PAD> <PAD> <PAD> <PAD> <PAD> <PAD> <PAD>\n"
     ]
    }
   ],
   "source": [
    "tmp_x = pad(preproc_english_sentences, preproc_french_sentences.shape[1])\n",
    "tmp_x = tmp_x.reshape((-1, preproc_french_sentences.shape[-2]))\n",
    "print(logits_to_text(embed_rnn_model.predict(tmp_x[10:20])[0], french_tokenizer))"
   ]
  },
  {
   "cell_type": "markdown",
   "metadata": {},
   "source": [
    "### Model 3: Bidirectional RNNs (IMPLEMENTATION)\n",
    "![RNN](images/bidirectional.png)\n",
    "One restriction of a RNN is that it can't see the future input, only the past.  This is where bidirectional recurrent neural networks come in.  They are able to see the future data."
   ]
  },
  {
   "cell_type": "code",
   "execution_count": null,
   "metadata": {},
   "outputs": [
    {
     "name": "stdout",
     "output_type": "stream",
     "text": [
      "Train on 110288 samples, validate on 27573 samples\n",
      "Epoch 1/10\n",
      "110288/110288 [==============================] - 749s - loss: 1.8462 - acc: 0.5738 - val_loss: 1.3927 - val_acc: 0.6249\n",
      "Epoch 2/10\n",
      "110288/110288 [==============================] - 750s - loss: 1.3072 - acc: 0.6319 - val_loss: 1.2192 - val_acc: 0.6457\n",
      "Epoch 3/10\n",
      "110288/110288 [==============================] - 751s - loss: 1.1896 - acc: 0.6512 - val_loss: 1.1315 - val_acc: 0.6588\n",
      "Epoch 4/10\n",
      "110288/110288 [==============================] - 751s - loss: 1.1284 - acc: 0.6662 - val_loss: 1.0715 - val_acc: 0.6808\n",
      "Epoch 5/10\n",
      "110288/110288 [==============================] - 752s - loss: 1.0619 - acc: 0.6787 - val_loss: 1.1176 - val_acc: 0.6590\n",
      "Epoch 6/10\n",
      "110288/110288 [==============================] - 752s - loss: 1.0014 - acc: 0.6932 - val_loss: 0.9912 - val_acc: 0.6914\n",
      "Epoch 7/10\n",
      "110288/110288 [==============================] - 751s - loss: 0.9638 - acc: 0.7033 - val_loss: 0.9176 - val_acc: 0.7181\n",
      "Epoch 8/10\n",
      "110288/110288 [==============================] - 751s - loss: 0.9202 - acc: 0.7145 - val_loss: 1.0352 - val_acc: 0.6922\n",
      "Epoch 9/10\n",
      "110288/110288 [==============================] - 751s - loss: 0.9354 - acc: 0.7148 - val_loss: 0.8823 - val_acc: 0.7239\n",
      "Epoch 10/10\n",
      "110288/110288 [==============================] - 751s - loss: 0.8772 - acc: 0.7252 - val_loss: 0.9155 - val_acc: 0.7155\n",
      "new jersey est parfois chaud en l' de mai et il est en en novembre <PAD> <PAD> <PAD> <PAD> <PAD> <PAD>\n"
     ]
    }
   ],
   "source": [
    "from keras.layers import GRU, Input, Dense, TimeDistributed\n",
    "from keras.models import Model, Sequential\n",
    "from keras.layers import Activation, SimpleRNN\n",
    "from keras.optimizers import Adam\n",
    "from keras.losses import sparse_categorical_crossentropy\n",
    "from keras.layers import Bidirectional\n",
    "\n",
    "\n",
    "def bd_model(input_shape, output_sequence_length, english_vocab_size, french_vocab_size):\n",
    "    \"\"\"\n",
    "    Build and train a bidirectional RNN model on x and y\n",
    "    :param input_shape: Tuple of input shape\n",
    "    :param output_sequence_length: Length of output sequence\n",
    "    :param english_vocab_size: Number of unique English words in the dataset\n",
    "    :param french_vocab_size: Number of unique French words in the dataset\n",
    "    :return: Keras model built, but not trained\n",
    "    \"\"\"\n",
    "    model = Sequential()\n",
    "    #model.add(SimpleRNN(output_sequence_length,activation=None, input_shape=input_shape[1:], return_sequences = True))\n",
    "    #model.add(Embedding(english_vocab_size+1,output_sequence_length, input_length=input_shape[1]))\n",
    "    model.add(Bidirectional(GRU(french_vocab_size,activation=None, return_sequences = True), input_shape=input_shape[1:],merge_mode='ave'))\n",
    "    model.add(Activation('softmax'))\n",
    "    #learning_rate=0.1\n",
    "    learning_rate = 0.005\n",
    "    model.compile(loss=sparse_categorical_crossentropy,\n",
    "                  optimizer=Adam(learning_rate),\n",
    "                  metrics=['accuracy'])\n",
    "    return model\n",
    "tests.test_bd_model(bd_model)\n",
    "\n",
    "# TODO: Train and Print prediction(s)\n",
    "tmp_x = pad(preproc_english_sentences, preproc_french_sentences.shape[1])\n",
    "tmp_x = tmp_x.reshape((-1, preproc_french_sentences.shape[-2], 1))\n",
    "\n",
    "# Train the neural network\n",
    "bidirectional_rnn_model = bd_model(\n",
    "    tmp_x.shape,\n",
    "    preproc_french_sentences.shape[1],\n",
    "    len(english_tokenizer.word_index)+1,\n",
    "    len(french_tokenizer.word_index)+1)\n",
    "bidirectional_rnn_model.fit(tmp_x, preproc_french_sentences, batch_size=1024, epochs=10, validation_split=0.2)\n",
    "\n",
    "# Print prediction(s)\n",
    "print(logits_to_text(bidirectional_rnn_model.predict(tmp_x[:1])[0], french_tokenizer))"
   ]
  },
  {
   "cell_type": "code",
   "execution_count": 52,
   "metadata": {},
   "outputs": [
    {
     "name": "stdout",
     "output_type": "stream",
     "text": [
      "la citron est la moins aimé des fruits la la est est votre moins aimé <PAD> <PAD> <PAD> <PAD> <PAD> <PAD>\n"
     ]
    }
   ],
   "source": [
    "print(logits_to_text(bidirectional_rnn_model.predict(tmp_x[10:20])[0], french_tokenizer))"
   ]
  },
  {
   "cell_type": "markdown",
   "metadata": {},
   "source": [
    "### Model 4: Encoder-Decoder (OPTIONAL)\n",
    "Time to look at encoder-decoder models.  This model is made up of an encoder and decoder. The encoder creates a matrix representation of the sentence.  The decoder takes this matrix as input and predicts the translation as output.\n",
    "\n",
    "Create an encoder-decoder model in the cell below."
   ]
  },
  {
   "cell_type": "code",
   "execution_count": 94,
   "metadata": {},
   "outputs": [
    {
     "name": "stdout",
     "output_type": "stream",
     "text": [
      "(137861, 15, 1)\n",
      "(137861, 21, 1)\n",
      "Train on 110288 samples, validate on 27573 samples\n",
      "Epoch 1/10\n",
      "110288/110288 [==============================] - 192s - loss: 2.3748 - acc: 0.4750 - val_loss: 1.7634 - val_acc: 0.5478\n",
      "Epoch 2/10\n",
      "110288/110288 [==============================] - 206s - loss: 1.5450 - acc: 0.5797 - val_loss: 1.3636 - val_acc: 0.6104\n",
      "Epoch 3/10\n",
      "110288/110288 [==============================] - 205s - loss: 1.3059 - acc: 0.6203 - val_loss: 1.2420 - val_acc: 0.6322\n",
      "Epoch 4/10\n",
      "110288/110288 [==============================] - 200s - loss: 1.2066 - acc: 0.6401 - val_loss: 1.1366 - val_acc: 0.6552\n",
      "Epoch 5/10\n",
      "110288/110288 [==============================] - 198s - loss: 1.1197 - acc: 0.6578 - val_loss: 1.0546 - val_acc: 0.6704\n",
      "Epoch 6/10\n",
      "110288/110288 [==============================] - 195s - loss: 1.0700 - acc: 0.6681 - val_loss: 1.0242 - val_acc: 0.6778\n",
      "Epoch 7/10\n",
      "110288/110288 [==============================] - 195s - loss: 1.0010 - acc: 0.6820 - val_loss: 0.9578 - val_acc: 0.6903\n",
      "Epoch 8/10\n",
      "110288/110288 [==============================] - 196s - loss: 0.9554 - acc: 0.6911 - val_loss: 1.0074 - val_acc: 0.6815\n",
      "Epoch 9/10\n",
      "110288/110288 [==============================] - 195s - loss: 0.9451 - acc: 0.6929 - val_loss: 0.9802 - val_acc: 0.6831\n",
      "Epoch 10/10\n",
      "110288/110288 [==============================] - 194s - loss: 0.9070 - acc: 0.7024 - val_loss: 0.8616 - val_acc: 0.7143\n",
      "new jersey est parfois calme en mois de il est il est en <PAD> <PAD> <PAD> <PAD> <PAD> <PAD> <PAD> <PAD>\n"
     ]
    }
   ],
   "source": [
    "from keras.layers import RepeatVector,Reshape\n",
    "from keras.layers import GRU, Input, Dense, TimeDistributed\n",
    "from keras.models import Model, Sequential\n",
    "from keras.layers import Activation, SimpleRNN\n",
    "from keras.optimizers import Adam\n",
    "from keras.losses import sparse_categorical_crossentropy\n",
    "\n",
    "\n",
    "def encdec_model(input_shape, output_sequence_length, english_vocab_size, french_vocab_size):\n",
    "    \"\"\"\n",
    "    Build and train an encoder-decoder model on x and y\n",
    "    :param input_shape: Tuple of input shape\n",
    "    :param output_sequence_length: Length of output sequence\n",
    "    :param english_vocab_size: Number of unique English words in the dataset\n",
    "    :param french_vocab_size: Number of unique French words in the dataset\n",
    "    :return: Keras model built, but not trained\n",
    "    \"\"\"\n",
    "    # OPTIONAL: Implement\n",
    "    print(input_shape)\n",
    "    #model.add(SimpleRNN(output_sequence_length,activation=None, input_shape=input_shape[1:], return_sequences = True))\n",
    "    model = Sequential()\n",
    "    ## Encoding layer\n",
    "    #encoding = Dense(100,input_shape=input_shape[1:])\n",
    "    ## Rnn\n",
    "    rnn = GRU(100,activation=None,input_shape=input_shape[1:])\n",
    "    model.add(rnn)\n",
    "    repeat = RepeatVector(output_sequence_length)\n",
    "    model.add(repeat)\n",
    "    rnn2 = GRU(100,activation=None,return_sequences=True)\n",
    "    model.add(rnn2)\n",
    "    ## Decoding layer\n",
    "    decoding = TimeDistributed(Dense(french_vocab_size, activation='softmax'))\n",
    "    model.add(decoding)\n",
    "    ## Activation layer\n",
    "    #learning_rate=0.1\n",
    "    learning_rate = 0.005\n",
    "\n",
    "    model.compile(loss=sparse_categorical_crossentropy,\n",
    "                  optimizer=Adam(learning_rate),\n",
    "                  metrics=['accuracy'])\n",
    "    return model\n",
    "tmp_x = pad(preproc_english_sentences, preproc_french_sentences.shape[1])\n",
    "tmp_x = tmp_x.reshape((-1, preproc_french_sentences.shape[-2]))\n",
    "\n",
    "#print(tmp_x)\n",
    "tests.test_encdec_model(encdec_model)\n",
    "\n",
    "# Reshaping the input to work with a basic RNN\n",
    "tmp_x = pad(preproc_english_sentences, preproc_french_sentences.shape[1])\n",
    "tmp_x = tmp_x.reshape((-1, preproc_french_sentences.shape[-2], 1))\n",
    "\n",
    "# Train the neural network\n",
    "encdec_rnn_model = encdec_model(\n",
    "    tmp_x.shape,\n",
    "    preproc_french_sentences.shape[1],\n",
    "    len(english_tokenizer.word_index)+1,\n",
    "    len(french_tokenizer.word_index)+1)\n",
    "encdec_rnn_model.fit(tmp_x, preproc_french_sentences, batch_size=1024, epochs=10, validation_split=0.2)\n",
    "\n",
    "# Print prediction(s)\n",
    "print(logits_to_text(encdec_rnn_model.predict(tmp_x[:1])[0], french_tokenizer))\n",
    "\n",
    "\n",
    "\n",
    "# OPTIONAL: Train and Print prediction(s)"
   ]
  },
  {
   "cell_type": "markdown",
   "metadata": {},
   "source": [
    "### Model 5: Custom (IMPLEMENTATION)\n",
    "Use everything you learned from the previous models to create a model that incorporates embedding and a bidirectional rnn into one model."
   ]
  },
  {
   "cell_type": "code",
   "execution_count": 157,
   "metadata": {},
   "outputs": [
    {
     "name": "stdout",
     "output_type": "stream",
     "text": [
      "Train on 110288 samples, validate on 27573 samples\n",
      "Epoch 1/25\n",
      "110288/110288 [==============================] - 513s - loss: 2.1818 - acc: 0.5167 - val_loss: 1.4254 - val_acc: 0.6150\n",
      "Epoch 2/25\n",
      "110288/110288 [==============================] - 508s - loss: 1.2918 - acc: 0.6422 - val_loss: 1.0898 - val_acc: 0.6880\n",
      "Epoch 3/25\n",
      "110288/110288 [==============================] - 515s - loss: 1.0748 - acc: 0.6888 - val_loss: 0.9614 - val_acc: 0.7143\n",
      "Epoch 4/25\n",
      "110288/110288 [==============================] - 522s - loss: 0.9629 - acc: 0.7115 - val_loss: 0.8645 - val_acc: 0.7325\n",
      "Epoch 5/25\n",
      "110288/110288 [==============================] - 530s - loss: 0.8763 - acc: 0.7289 - val_loss: 0.8225 - val_acc: 0.7405\n",
      "Epoch 6/25\n",
      "110288/110288 [==============================] - 537s - loss: 0.8054 - acc: 0.7465 - val_loss: 0.7441 - val_acc: 0.7634\n",
      "Epoch 7/25\n",
      "110288/110288 [==============================] - 544s - loss: 0.7413 - acc: 0.7642 - val_loss: 0.6677 - val_acc: 0.7873\n",
      "Epoch 8/25\n",
      "110288/110288 [==============================] - 552s - loss: 0.6680 - acc: 0.7882 - val_loss: 0.5901 - val_acc: 0.8130\n",
      "Epoch 9/25\n",
      "110288/110288 [==============================] - 559s - loss: 0.6067 - acc: 0.8079 - val_loss: 0.5320 - val_acc: 0.8328\n",
      "Epoch 10/25\n",
      "110288/110288 [==============================] - 566s - loss: 0.5454 - acc: 0.8275 - val_loss: 0.4766 - val_acc: 0.8511\n",
      "Epoch 11/25\n",
      "110288/110288 [==============================] - 573s - loss: 0.4911 - acc: 0.8443 - val_loss: 0.4241 - val_acc: 0.8671\n",
      "Epoch 12/25\n",
      "110288/110288 [==============================] - 580s - loss: 0.4460 - acc: 0.8582 - val_loss: 0.3721 - val_acc: 0.8850\n",
      "Epoch 13/25\n",
      "110288/110288 [==============================] - 587s - loss: 0.4029 - acc: 0.8721 - val_loss: 0.3408 - val_acc: 0.8937\n",
      "Epoch 14/25\n",
      "110288/110288 [==============================] - 591s - loss: 0.3688 - acc: 0.8830 - val_loss: 0.3095 - val_acc: 0.9056\n",
      "Epoch 15/25\n",
      "110288/110288 [==============================] - 596s - loss: 0.3368 - acc: 0.8937 - val_loss: 0.2901 - val_acc: 0.9108\n",
      "Epoch 16/25\n",
      "110288/110288 [==============================] - 599s - loss: 0.3101 - acc: 0.9025 - val_loss: 0.2567 - val_acc: 0.9224\n",
      "Epoch 17/25\n",
      "110288/110288 [==============================] - 601s - loss: 0.2815 - acc: 0.9116 - val_loss: 0.2323 - val_acc: 0.9306\n",
      "Epoch 18/25\n",
      "110288/110288 [==============================] - 605s - loss: 0.2555 - acc: 0.9201 - val_loss: 0.2391 - val_acc: 0.9272\n",
      "Epoch 19/25\n",
      "110288/110288 [==============================] - 608s - loss: 0.2371 - acc: 0.9259 - val_loss: 0.1962 - val_acc: 0.9410\n",
      "Epoch 20/25\n",
      "110288/110288 [==============================] - 611s - loss: 0.2168 - acc: 0.9324 - val_loss: 0.1845 - val_acc: 0.9439\n",
      "Epoch 21/25\n",
      "110288/110288 [==============================] - 611s - loss: 0.2031 - acc: 0.9365 - val_loss: 0.1657 - val_acc: 0.9494\n",
      "Epoch 22/25\n",
      "110288/110288 [==============================] - 613s - loss: 0.1856 - acc: 0.9419 - val_loss: 0.1616 - val_acc: 0.9505\n",
      "Epoch 23/25\n",
      "110288/110288 [==============================] - 614s - loss: 0.1738 - acc: 0.9456 - val_loss: 0.1487 - val_acc: 0.9545\n",
      "Epoch 24/25\n",
      "110288/110288 [==============================] - 616s - loss: 0.1611 - acc: 0.9495 - val_loss: 0.1377 - val_acc: 0.9575\n",
      "Epoch 25/25\n",
      "110288/110288 [==============================] - 616s - loss: 0.1515 - acc: 0.9524 - val_loss: 0.1315 - val_acc: 0.9594\n",
      "new jersey est parfois calme pendant l'automne et il est neigeux en avril <PAD> <PAD> <PAD> <PAD> <PAD> <PAD> <PAD> <PAD>\n",
      "Final Model Loaded\n"
     ]
    }
   ],
   "source": [
    "from keras.layers import GRU, Input, Dense, TimeDistributed\n",
    "from keras.models import Model, Sequential\n",
    "from keras.layers import Activation, SimpleRNN\n",
    "from keras.optimizers import Adam\n",
    "from keras.losses import sparse_categorical_crossentropy\n",
    "from keras.layers import Bidirectional, Dropout\n",
    "from keras.layers.embeddings import Embedding\n",
    "\n",
    "def model_final(input_shape, output_sequence_length, english_vocab_size, french_vocab_size):\n",
    "    \"\"\"\n",
    "    Build and train a model that incorporates embedding, encoder-decoder, and bidirectional RNN on x and y\n",
    "    :param input_shape: Tuple of input shape\n",
    "    :param output_sequence_length: Length of output sequence\n",
    "    :param english_vocab_size: Number of unique English words in the dataset\n",
    "    :param french_vocab_size: Number of unique French words in the dataset\n",
    "    :return: Keras model built, but not trained\n",
    "    \"\"\"\n",
    "    # TODO: Implement\n",
    "    model = Sequential()\n",
    "    #model.add(SimpleRNN(output_sequence_length,activation=None, input_shape=input_shape[1:], return_sequences = True))\n",
    "    # Embedding\n",
    "    model.add(Embedding(english_vocab_size+1,output_sequence_length,input_length=input_shape[1]))\n",
    "    # Encoding\n",
    "    encoding = Bidirectional(GRU(128,input_shape=input_shape[1:]))\n",
    "    model.add(encoding)\n",
    "    repeat = RepeatVector(output_sequence_length)\n",
    "    model.add(repeat)\n",
    "    # Bidirectional rnn\n",
    "    model.add(Bidirectional(GRU(128,return_sequences = True)))\n",
    "    # Decoding\n",
    "    model.add(TimeDistributed(Dense(256, activation='relu')))\n",
    "    model.add(Dropout(0.2))\n",
    "    model.add(TimeDistributed(Dense(french_vocab_size, activation='softmax')))\n",
    "    # Activation\n",
    "#    model.add(Activation('softmax'))\n",
    "    #learning_rate=0.1\n",
    "    learning_rate = 0.001\n",
    "    model.compile(loss=sparse_categorical_crossentropy,\n",
    "                  optimizer=Adam(learning_rate),\n",
    "                  metrics=['accuracy'])\n",
    "    return model\n",
    "tests.test_model_final(model_final)\n",
    "\n",
    "tmp_x = pad(preproc_english_sentences, preproc_french_sentences.shape[1])\n",
    "tmp_x = tmp_x.reshape((-1, preproc_french_sentences.shape[-2]))\n",
    "\n",
    "# Train the neural network\n",
    "final_rnn_model = model_final(\n",
    "    tmp_x.shape,\n",
    "    preproc_french_sentences.shape[1],\n",
    "    len(english_tokenizer.word_index)+1,\n",
    "    len(french_tokenizer.word_index)+1)\n",
    "final_rnn_model.fit(tmp_x, preproc_french_sentences, batch_size=256, epochs=25, validation_split=0.2)\n",
    "\n",
    "# Print prediction(s)\n",
    "print(logits_to_text(final_rnn_model.predict(tmp_x[:1])[0], french_tokenizer))\n",
    "\n",
    "print('Final Model Loaded')"
   ]
  },
  {
   "cell_type": "code",
   "execution_count": 159,
   "metadata": {},
   "outputs": [
    {
     "name": "stdout",
     "output_type": "stream",
     "text": [
      "new jersey est parfois calme pendant l'automne et il est neigeux en avril <PAD> <PAD> <PAD> <PAD> <PAD> <PAD> <PAD> <PAD>\n"
     ]
    }
   ],
   "source": [
    "print(logits_to_text(final_rnn_model.predict(tmp_x[0:1])[0], french_tokenizer))"
   ]
  },
  {
   "cell_type": "markdown",
   "metadata": {},
   "source": [
    "## Prediction (IMPLEMENTATION)"
   ]
  },
  {
   "cell_type": "code",
   "execution_count": 158,
   "metadata": {},
   "outputs": [
    {
     "name": "stdout",
     "output_type": "stream",
     "text": [
      "Train on 110288 samples, validate on 27573 samples\n",
      "Epoch 1/25\n",
      "110288/110288 [==============================] - 513s - loss: 2.1520 - acc: 0.5215 - val_loss: 1.4049 - val_acc: 0.6219\n",
      "Epoch 2/25\n",
      "110288/110288 [==============================] - 508s - loss: 1.2863 - acc: 0.6481 - val_loss: 1.0939 - val_acc: 0.6912\n",
      "Epoch 3/25\n",
      "110288/110288 [==============================] - 516s - loss: 1.0864 - acc: 0.6910 - val_loss: 0.9807 - val_acc: 0.7151\n",
      "Epoch 4/25\n",
      "110288/110288 [==============================] - 522s - loss: 0.9840 - acc: 0.7123 - val_loss: 0.9579 - val_acc: 0.7159\n",
      "Epoch 5/25\n",
      "110288/110288 [==============================] - 527s - loss: 0.8945 - acc: 0.7330 - val_loss: 0.8210 - val_acc: 0.7532\n",
      "Epoch 6/25\n",
      "110288/110288 [==============================] - 533s - loss: 0.8115 - acc: 0.7534 - val_loss: 0.7508 - val_acc: 0.7694\n",
      "Epoch 7/25\n",
      "110288/110288 [==============================] - 540s - loss: 0.7328 - acc: 0.7727 - val_loss: 0.6429 - val_acc: 0.7980\n",
      "Epoch 8/25\n",
      "110288/110288 [==============================] - 544s - loss: 0.6560 - acc: 0.7927 - val_loss: 0.5776 - val_acc: 0.8176\n",
      "Epoch 9/25\n",
      "110288/110288 [==============================] - 549s - loss: 0.5775 - acc: 0.8151 - val_loss: 0.4953 - val_acc: 0.8408\n",
      "Epoch 10/25\n",
      "110288/110288 [==============================] - 555s - loss: 0.5133 - acc: 0.8342 - val_loss: 0.4427 - val_acc: 0.8596\n",
      "Epoch 11/25\n",
      "110288/110288 [==============================] - 561s - loss: 0.4597 - acc: 0.8526 - val_loss: 0.3873 - val_acc: 0.8795\n",
      "Epoch 12/25\n",
      "110288/110288 [==============================] - 572s - loss: 0.4102 - acc: 0.8694 - val_loss: 0.3501 - val_acc: 0.8901\n",
      "Epoch 13/25\n",
      "110288/110288 [==============================] - 569s - loss: 0.3722 - acc: 0.8818 - val_loss: 0.3245 - val_acc: 0.8994\n",
      "Epoch 14/25\n",
      "110288/110288 [==============================] - 573s - loss: 0.3373 - acc: 0.8947 - val_loss: 0.2780 - val_acc: 0.9153\n",
      "Epoch 15/25\n",
      "110288/110288 [==============================] - 576s - loss: 0.3035 - acc: 0.9066 - val_loss: 0.2515 - val_acc: 0.9240\n",
      "Epoch 16/25\n",
      "110288/110288 [==============================] - 579s - loss: 0.2737 - acc: 0.9151 - val_loss: 0.2218 - val_acc: 0.9321\n",
      "Epoch 17/25\n",
      "110288/110288 [==============================] - 582s - loss: 0.2466 - acc: 0.9237 - val_loss: 0.2210 - val_acc: 0.9331\n",
      "Epoch 18/25\n",
      "110288/110288 [==============================] - 585s - loss: 0.2241 - acc: 0.9309 - val_loss: 0.1862 - val_acc: 0.9440\n",
      "Epoch 19/25\n",
      "110288/110288 [==============================] - 588s - loss: 0.2006 - acc: 0.9389 - val_loss: 0.1600 - val_acc: 0.9513\n",
      "Epoch 20/25\n",
      "110288/110288 [==============================] - 591s - loss: 0.1824 - acc: 0.9440 - val_loss: 0.1492 - val_acc: 0.9540\n",
      "Epoch 21/25\n",
      "110288/110288 [==============================] - 592s - loss: 0.1671 - acc: 0.9485 - val_loss: 0.1374 - val_acc: 0.9586\n",
      "Epoch 22/25\n",
      "110288/110288 [==============================] - 595s - loss: 0.1545 - acc: 0.9522 - val_loss: 0.1388 - val_acc: 0.9577\n",
      "Epoch 23/25\n",
      "110288/110288 [==============================] - 597s - loss: 0.1475 - acc: 0.9543 - val_loss: 0.1457 - val_acc: 0.9556\n",
      "Epoch 24/25\n",
      "110288/110288 [==============================] - 600s - loss: 0.1386 - acc: 0.9569 - val_loss: 0.1299 - val_acc: 0.9591\n",
      "Epoch 25/25\n",
      "110288/110288 [==============================] - 601s - loss: 0.1312 - acc: 0.9590 - val_loss: 0.1231 - val_acc: 0.9611\n",
      "Sample 1:\n",
      "il a vu un vieux camion bleu <PAD> <PAD> <PAD> <PAD> <PAD> <PAD> <PAD> <PAD> <PAD> <PAD> <PAD> <PAD> <PAD> <PAD>\n",
      "Il a vu un vieux camion jaune\n",
      "Sample 2:\n",
      "new jersey est parfois calme pendant l' automne et il est généralement en en <PAD> <PAD> <PAD> <PAD> <PAD> <PAD> <PAD>\n",
      "<PAD> <PAD> <PAD> <PAD> <PAD> <PAD> <PAD> <PAD> <PAD> <PAD> <PAD> <PAD> <PAD> <PAD> <PAD> <PAD> <PAD> <PAD> <PAD> <PAD> <PAD>\n"
     ]
    }
   ],
   "source": [
    "import numpy as np\n",
    "from keras.preprocessing.sequence import pad_sequences\n",
    "\n",
    "\n",
    "def final_predictions(x, y, x_tk, y_tk):\n",
    "    \"\"\"\n",
    "    Gets predictions using the final model\n",
    "    :param x: Preprocessed English data\n",
    "    :param y: Preprocessed French data\n",
    "    :param x_tk: English tokenizer\n",
    "    :param y_tk: French tokenizer\n",
    "    \"\"\"\n",
    "    # TODO: Train neural network using model_final\n",
    "    tmp_x = pad(x, y.shape[1])\n",
    "    tmp_x = tmp_x.reshape((-1, y.shape[-2]))\n",
    "    model = model_final((None,None), y.shape[1], len(x_tk.word_index)+1, len(y_tk.word_index)+1)\n",
    "    model.fit(tmp_x, y, batch_size=256, epochs=25, validation_split=0.2)\n",
    "\n",
    "    \n",
    "    ## DON'T EDIT ANYTHING BELOW THIS LINE\n",
    "    y_id_to_word = {value: key for key, value in y_tk.word_index.items()}\n",
    "    y_id_to_word[0] = '<PAD>'\n",
    "\n",
    "    sentence = 'he saw a old yellow truck'\n",
    "    sentence = [x_tk.word_index[word] for word in sentence.split()]\n",
    "    sentence = pad_sequences([sentence], maxlen=x.shape[-1], padding='post')\n",
    "    sentences = np.array([sentence[0], x[0]])\n",
    "    predictions = model.predict(sentences, len(sentences))\n",
    "\n",
    "    print('Sample 1:')\n",
    "    print(' '.join([y_id_to_word[np.argmax(x)] for x in predictions[0]]))\n",
    "    print('Il a vu un vieux camion jaune')\n",
    "    print('Sample 2:')\n",
    "    print(' '.join([y_id_to_word[np.argmax(x)] for x in predictions[1]]))\n",
    "    print(' '.join([y_id_to_word[np.argmax(x)] for x in y[0]]))\n",
    "\n",
    "\n",
    "final_predictions(preproc_english_sentences, preproc_french_sentences, english_tokenizer, french_tokenizer)"
   ]
  },
  {
   "cell_type": "markdown",
   "metadata": {},
   "source": [
    "## Submission\n",
    "When you are ready to submit your project, do the following steps:\n",
    "1. Ensure you pass all points on the [rubric](https://review.udacity.com/#!/rubrics/1004/view).\n",
    "2. Submit the following in a zip file.\n",
    "  - `helper.py`\n",
    "  - `machine_translation.ipynb`\n",
    "  - `machine_translation.html`\n",
    "    - You can export the notebook by navigating to **File -> Download as -> HTML (.html)**."
   ]
  }
 ],
 "metadata": {
  "kernelspec": {
   "display_name": "Python 3",
   "language": "python",
   "name": "python3"
  },
  "language_info": {
   "codemirror_mode": {
    "name": "ipython",
    "version": 3
   },
   "file_extension": ".py",
   "mimetype": "text/x-python",
   "name": "python",
   "nbconvert_exporter": "python",
   "pygments_lexer": "ipython3",
   "version": "3.6.1"
  }
 },
 "nbformat": 4,
 "nbformat_minor": 1
}
