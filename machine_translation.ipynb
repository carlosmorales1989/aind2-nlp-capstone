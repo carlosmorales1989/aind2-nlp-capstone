{
 "cells": [
  {
   "cell_type": "markdown",
   "metadata": {
    "collapsed": true
   },
   "source": [
    "# Artificial Intelligence Nanodegree\n",
    "## Machine Translation Project\n",
    "In this notebook, sections that end with **'(IMPLEMENTATION)'** in the header indicate that the following blocks of code will require additional functionality which you must provide. Please be sure to read the instructions carefully!\n",
    "\n",
    "## Introduction\n",
    "In this notebook, you will build a deep neural network that functions as part of an end-to-end machine translation pipeline. Your completed pipeline will accept English text as input and return the French translation.\n",
    "\n",
    "- **Preprocess** - You'll convert text to sequence of integers.\n",
    "- **Models** Create models which accepts a sequence of integers as input and returns a probability distribution over possible translations. After learning about the basic types of neural networks that are often used for machine translation, you will engage in your own investigations, to design your own model!\n",
    "- **Prediction** Run the model on English text.\n",
    "\n",
    "## Dataset\n",
    "We begin by investigating the dataset that will be used to train and evaluate your pipeline.  The most common datasets used for machine translation are from [WMT](http://www.statmt.org/).  However, that will take a long time to train a neural network on.  We'll be using a dataset we created for this project that contains a small vocabulary.  You'll be able to train your model in a reasonable time with this dataset.\n",
    "### Load Data\n",
    "The data is located in `data/small_vocab_en` and `data/small_vocab_fr`. The `small_vocab_en` file contains English sentences with their French translations in the `small_vocab_fr` file. Load the English and French data from these files from running the cell below."
   ]
  },
  {
   "cell_type": "code",
   "execution_count": 1,
   "metadata": {},
   "outputs": [
    {
     "name": "stdout",
     "output_type": "stream",
     "text": [
      "Dataset Loaded\n"
     ]
    }
   ],
   "source": [
    "import helper\n",
    "\n",
    "\n",
    "# Load English data\n",
    "english_sentences = helper.load_data('data/small_vocab_en')\n",
    "# Load French data\n",
    "french_sentences = helper.load_data('data/small_vocab_fr')\n",
    "\n",
    "print('Dataset Loaded')"
   ]
  },
  {
   "cell_type": "markdown",
   "metadata": {},
   "source": [
    "### Files\n",
    "Each line in `small_vocab_en` contains an English sentence with the respective translation in each line of `small_vocab_fr`.  View the first two lines from each file."
   ]
  },
  {
   "cell_type": "code",
   "execution_count": 2,
   "metadata": {},
   "outputs": [
    {
     "name": "stdout",
     "output_type": "stream",
     "text": [
      "small_vocab_en Line 1:  new jersey is sometimes quiet during autumn , and it is snowy in april .\n",
      "small_vocab_fr Line 1:  new jersey est parfois calme pendant l' automne , et il est neigeux en avril .\n",
      "small_vocab_en Line 2:  the united states is usually chilly during july , and it is usually freezing in november .\n",
      "small_vocab_fr Line 2:  les états-unis est généralement froid en juillet , et il gèle habituellement en novembre .\n"
     ]
    }
   ],
   "source": [
    "for sample_i in range(2):\n",
    "    print('small_vocab_en Line {}:  {}'.format(sample_i + 1, english_sentences[sample_i]))\n",
    "    print('small_vocab_fr Line {}:  {}'.format(sample_i + 1, french_sentences[sample_i]))"
   ]
  },
  {
   "cell_type": "markdown",
   "metadata": {},
   "source": [
    "From looking at the sentences, you can see they have been preprocessed already.  The puncuations have been delimited using spaces. All the text have been converted to lowercase.  This should save you some time, but the text requires more preprocessing.\n",
    "### Vocabulary\n",
    "The complexity of the problem is determined by the complexity of the vocabulary.  A more complex vocabulary is a more complex problem.  Let's look at the complexity of the dataset we'll be working with."
   ]
  },
  {
   "cell_type": "code",
   "execution_count": 3,
   "metadata": {},
   "outputs": [
    {
     "name": "stdout",
     "output_type": "stream",
     "text": [
      "1823250 English words.\n",
      "227 unique English words.\n",
      "10 Most common words in the English dataset:\n",
      "\"is\" \",\" \".\" \"in\" \"it\" \"during\" \"the\" \"but\" \"and\" \"sometimes\"\n",
      "\n",
      "1961295 French words.\n",
      "355 unique French words.\n",
      "10 Most common words in the French dataset:\n",
      "\"est\" \".\" \",\" \"en\" \"il\" \"les\" \"mais\" \"et\" \"la\" \"parfois\"\n"
     ]
    }
   ],
   "source": [
    "import collections\n",
    "\n",
    "\n",
    "english_words_counter = collections.Counter([word for sentence in english_sentences for word in sentence.split()])\n",
    "french_words_counter = collections.Counter([word for sentence in french_sentences for word in sentence.split()])\n",
    "\n",
    "print('{} English words.'.format(len([word for sentence in english_sentences for word in sentence.split()])))\n",
    "print('{} unique English words.'.format(len(english_words_counter)))\n",
    "print('10 Most common words in the English dataset:')\n",
    "print('\"' + '\" \"'.join(list(zip(*english_words_counter.most_common(10)))[0]) + '\"')\n",
    "print()\n",
    "print('{} French words.'.format(len([word for sentence in french_sentences for word in sentence.split()])))\n",
    "print('{} unique French words.'.format(len(french_words_counter)))\n",
    "print('10 Most common words in the French dataset:')\n",
    "print('\"' + '\" \"'.join(list(zip(*french_words_counter.most_common(10)))[0]) + '\"')"
   ]
  },
  {
   "cell_type": "markdown",
   "metadata": {},
   "source": [
    "For comparison, _Alice's Adventures in Wonderland_ contains 2,766 unique words of a total of 15,500 words.\n",
    "## Preprocess\n",
    "For this project, you won't use text data as input to your model. Instead, you'll convert the text into sequences of integers using the following preprocess methods:\n",
    "1. Tokenize the words into ids\n",
    "2. Add padding to make all the sequences the same length.\n",
    "\n",
    "Time to start preprocessing the data...\n",
    "### Tokenize (IMPLEMENTATION)\n",
    "For a neural network to predict on text data, it first has to be turned into data it can understand. Text data like \"dog\" is a sequence of ASCII character encodings.  Since a neural network is a series of multiplication and addition operations, the input data needs to be number(s).\n",
    "\n",
    "We can turn each character into a number or each word into a number.  These are called character and word ids, respectively.  Character ids are used for character level models that generate text predictions for each character.  A word level model uses word ids that generate text predictions for each word.  Word level models tend to learn better, since they are lower in complexity, so we'll use those.\n",
    "\n",
    "Turn each sentence into a sequence of words ids using Keras's [`Tokenizer`](https://keras.io/preprocessing/text/#tokenizer) function. Use this function to tokenize `english_sentences` and `french_sentences` in the cell below.\n",
    "\n",
    "Running the cell will run `tokenize` on sample data and show output for debugging."
   ]
  },
  {
   "cell_type": "code",
   "execution_count": 4,
   "metadata": {},
   "outputs": [
    {
     "name": "stderr",
     "output_type": "stream",
     "text": [
      "Using TensorFlow backend.\n"
     ]
    },
    {
     "name": "stdout",
     "output_type": "stream",
     "text": [
      "{'the': 1, 'quick': 2, 'a': 3, 'brown': 4, 'fox': 5, 'jumps': 6, 'over': 7, 'lazy': 8, 'dog': 9, 'by': 10, 'jove': 11, 'my': 12, 'study': 13, 'of': 14, 'lexicography': 15, 'won': 16, 'prize': 17, 'this': 18, 'is': 19, 'short': 20, 'sentence': 21}\n",
      "\n",
      "Sequence 1 in x\n",
      "  Input:  The quick brown fox jumps over the lazy dog .\n",
      "  Output: [1, 2, 4, 5, 6, 7, 1, 8, 9]\n",
      "Sequence 2 in x\n",
      "  Input:  By Jove , my quick study of lexicography won a prize .\n",
      "  Output: [10, 11, 12, 2, 13, 14, 15, 16, 3, 17]\n",
      "Sequence 3 in x\n",
      "  Input:  This is a short sentence .\n",
      "  Output: [18, 19, 3, 20, 21]\n"
     ]
    }
   ],
   "source": [
    "import project_tests as tests\n",
    "from keras.preprocessing.text import Tokenizer\n",
    "\n",
    "\n",
    "def tokenize(x):\n",
    "    \"\"\"\n",
    "    Tokenize x\n",
    "    :param x: List of sentences/strings to be tokenized\n",
    "    :return: Tuple of (tokenized x data, tokenizer used to tokenize x)\n",
    "    \"\"\"\n",
    "    tokenizador = Tokenizer(lower=True)\n",
    "    tokenizador.fit_on_texts(x)\n",
    "    return tokenizador.texts_to_sequences(x), tokenizador\n",
    "tests.test_tokenize(tokenize)\n",
    "\n",
    "# Tokenize Example output\n",
    "text_sentences = [\n",
    "    'The quick brown fox jumps over the lazy dog .',\n",
    "    'By Jove , my quick study of lexicography won a prize .',\n",
    "    'This is a short sentence .']\n",
    "text_tokenized, text_tokenizer = tokenize(text_sentences)\n",
    "print(text_tokenizer.word_index)\n",
    "print()\n",
    "for sample_i, (sent, token_sent) in enumerate(zip(text_sentences, text_tokenized)):\n",
    "    print('Sequence {} in x'.format(sample_i + 1))\n",
    "    print('  Input:  {}'.format(sent))\n",
    "    print('  Output: {}'.format(token_sent))"
   ]
  },
  {
   "cell_type": "markdown",
   "metadata": {},
   "source": [
    "### Padding (IMPLEMENTATION)\n",
    "When batching the sequence of word ids together, each sequence needs to be the same length.  Since sentences are dynamic in length, we can add padding to the end of the sequences to make them the same length.\n",
    "\n",
    "Make sure all the English sequences have the same length and all the French sequences have the same length by adding padding to the **end** of each sequence using Keras's [`pad_sequences`](https://keras.io/preprocessing/sequence/#pad_sequences) function."
   ]
  },
  {
   "cell_type": "code",
   "execution_count": 5,
   "metadata": {},
   "outputs": [
    {
     "name": "stdout",
     "output_type": "stream",
     "text": [
      "Sequence 1 in x\n",
      "  Input:  [1 2 4 5 6 7 1 8 9]\n",
      "  Output: [1 2 4 5 6 7 1 8 9 0]\n",
      "Sequence 2 in x\n",
      "  Input:  [10 11 12  2 13 14 15 16  3 17]\n",
      "  Output: [10 11 12  2 13 14 15 16  3 17]\n",
      "Sequence 3 in x\n",
      "  Input:  [18 19  3 20 21]\n",
      "  Output: [18 19  3 20 21  0  0  0  0  0]\n"
     ]
    }
   ],
   "source": [
    "import numpy as np\n",
    "import project_tests as tests\n",
    "from keras.preprocessing.sequence import pad_sequences\n",
    "\n",
    "\n",
    "def pad(x, length=None):\n",
    "    \"\"\"\n",
    "    Pad x\n",
    "    :param x: List of sequences.\n",
    "    :param length: Length to pad the sequence to.  If None, use length of longest sequence in x.\n",
    "    :return: Padded numpy array of sequences\n",
    "    \"\"\"\n",
    "    # TODO: Implement  \n",
    "    return pad_sequences(x,length, padding='post')\n",
    "tests.test_pad(pad)\n",
    "\n",
    "# Pad Tokenized output\n",
    "test_pad = pad(text_tokenized)\n",
    "for sample_i, (token_sent, pad_sent) in enumerate(zip(text_tokenized, test_pad)):\n",
    "    print('Sequence {} in x'.format(sample_i + 1))\n",
    "    print('  Input:  {}'.format(np.array(token_sent)))\n",
    "    print('  Output: {}'.format(pad_sent))"
   ]
  },
  {
   "cell_type": "markdown",
   "metadata": {},
   "source": [
    "### Preprocess Pipeline\n",
    "Your focus for this project is to build neural network architecture, so we won't ask you to create a preprocess pipeline.  Instead, we've provided you with the implementation of the `preprocess` function."
   ]
  },
  {
   "cell_type": "code",
   "execution_count": 6,
   "metadata": {},
   "outputs": [
    {
     "name": "stdout",
     "output_type": "stream",
     "text": [
      "Data Preprocessed\n"
     ]
    }
   ],
   "source": [
    "def preprocess(x, y):\n",
    "    \"\"\"\n",
    "    Preprocess x and y\n",
    "    :param x: Feature List of sentences\n",
    "    :param y: Label List of sentences\n",
    "    :return: Tuple of (Preprocessed x, Preprocessed y, x tokenizer, y tokenizer)\n",
    "    \"\"\"\n",
    "    preprocess_x, x_tk = tokenize(x)\n",
    "    preprocess_y, y_tk = tokenize(y)\n",
    "\n",
    "    preprocess_x = pad(preprocess_x)\n",
    "    preprocess_y = pad(preprocess_y)\n",
    "\n",
    "    # Keras's sparse_categorical_crossentropy function requires the labels to be in 3 dimensions\n",
    "    preprocess_y = preprocess_y.reshape(*preprocess_y.shape, 1)\n",
    "\n",
    "    return preprocess_x, preprocess_y, x_tk, y_tk\n",
    "\n",
    "preproc_english_sentences, preproc_french_sentences, english_tokenizer, french_tokenizer =\\\n",
    "    preprocess(english_sentences, french_sentences)\n",
    "\n",
    "print('Data Preprocessed')"
   ]
  },
  {
   "cell_type": "markdown",
   "metadata": {},
   "source": [
    "## Models\n",
    "In this section, you will experiment with various neural network architectures.\n",
    "You will begin by training four relatively simple architectures.\n",
    "- Model 1 is a simple RNN\n",
    "- Model 2 is a RNN with Embedding\n",
    "- Model 3 is a Bidirectional RNN\n",
    "- Model 4 is an optional Encoder-Decoder RNN\n",
    "\n",
    "After experimenting with the four simple architectures, you will construct a deeper architecture that is designed to outperform all four models.\n",
    "### Ids Back to Text\n",
    "The neural network will be translating the input to words ids, which isn't the final form we want.  We want the French translation.  The function `logits_to_text` will bridge the gab between the logits from the neural network to the French translation.  You'll be using this function to better understand the output of the neural network."
   ]
  },
  {
   "cell_type": "code",
   "execution_count": 7,
   "metadata": {},
   "outputs": [
    {
     "name": "stdout",
     "output_type": "stream",
     "text": [
      "`logits_to_text` function loaded.\n"
     ]
    }
   ],
   "source": [
    "def logits_to_text(logits, tokenizer):\n",
    "    \"\"\"\n",
    "    Turn logits from a neural network into text using the tokenizer\n",
    "    :param logits: Logits from a neural network\n",
    "    :param tokenizer: Keras Tokenizer fit on the labels\n",
    "    :return: String that represents the text of the logits\n",
    "    \"\"\"\n",
    "    index_to_words = {id: word for word, id in tokenizer.word_index.items()}\n",
    "    index_to_words[0] = '<PAD>'\n",
    "\n",
    "    return ' '.join([index_to_words[prediction] for prediction in np.argmax(logits, 1)])\n",
    "\n",
    "print('`logits_to_text` function loaded.')"
   ]
  },
  {
   "cell_type": "markdown",
   "metadata": {},
   "source": [
    "### Model 1: RNN (IMPLEMENTATION)\n",
    "![RNN](images/rnn.png)\n",
    "A basic RNN model is a good baseline for sequence data.  In this model, you'll build a RNN that translates English to French."
   ]
  },
  {
   "cell_type": "code",
   "execution_count": 43,
   "metadata": {},
   "outputs": [
    {
     "name": "stdout",
     "output_type": "stream",
     "text": [
      "Train on 110288 samples, validate on 27573 samples\n",
      "Epoch 1/10\n",
      "110288/110288 [==============================] - 347s - loss: 3.8106 - acc: 0.3655 - val_loss: 2.9023 - val_acc: 0.4396\n",
      "Epoch 2/10\n",
      "110288/110288 [==============================] - 445s - loss: 2.6033 - acc: 0.4507 - val_loss: 2.2894 - val_acc: 0.4817\n",
      "Epoch 3/10\n",
      "110288/110288 [==============================] - 520s - loss: 2.1157 - acc: 0.5067 - val_loss: 2.0137 - val_acc: 0.5198\n",
      "Epoch 4/10\n",
      "110288/110288 [==============================] - 534s - loss: 1.9186 - acc: 0.5462 - val_loss: 1.8649 - val_acc: 0.5564\n",
      "Epoch 5/10\n",
      "110288/110288 [==============================] - 536s - loss: 1.8290 - acc: 0.5660 - val_loss: 1.8006 - val_acc: 0.5714\n",
      "Epoch 6/10\n",
      "110288/110288 [==============================] - 539s - loss: 1.7937 - acc: 0.5768 - val_loss: 1.7649 - val_acc: 0.5792\n",
      "Epoch 7/10\n",
      "110288/110288 [==============================] - 541s - loss: 1.7490 - acc: 0.5829 - val_loss: 1.7360 - val_acc: 0.5870\n",
      "Epoch 8/10\n",
      "110288/110288 [==============================] - 543s - loss: 1.7222 - acc: 0.5866 - val_loss: 1.7131 - val_acc: 0.5916\n",
      "Epoch 9/10\n",
      "110288/110288 [==============================] - 545s - loss: 1.6987 - acc: 0.5904 - val_loss: 1.7281 - val_acc: 0.5878\n",
      "Epoch 10/10\n",
      "110288/110288 [==============================] - 562s - loss: 1.8543 - acc: 0.5769 - val_loss: 1.7552 - val_acc: 0.5910\n",
      "la jersey est parfois en en en et il il est en en <PAD> <PAD> <PAD> <PAD> <PAD> <PAD> <PAD> <PAD>\n"
     ]
    }
   ],
   "source": [
    "from keras.layers import GRU, Input, Dense, TimeDistributed\n",
    "from keras.models import Model, Sequential\n",
    "from keras.layers import Activation, SimpleRNN\n",
    "from keras.optimizers import Adam\n",
    "from keras.losses import sparse_categorical_crossentropy\n",
    "\n",
    "\n",
    "def simple_model(input_shape, output_sequence_length, english_vocab_size, french_vocab_size):\n",
    "    \"\"\"\n",
    "    Build and train a basic RNN on x and y\n",
    "    :param input_shape: Tuple of input shape\n",
    "    :param output_sequence_length: Length of output sequence\n",
    "    :param english_vocab_size: Number of unique English words in the dataset\n",
    "    :param french_vocab_size: Number of unique French words in the dataset\n",
    "    :return: Keras model built, but not trained\n",
    "    \"\"\"\n",
    "    # TODO: Build the layers\n",
    "    model = Sequential()\n",
    "    #model.add(SimpleRNN(output_sequence_length,activation=None, input_shape=input_shape[1:], return_sequences = True))\n",
    "    model.add(GRU(french_vocab_size,activation='softmax', input_shape=input_shape[1:], return_sequences = True))\n",
    "    #model.add(Dense(french_vocab_size))\n",
    "    ##model.add(Activation('softmax'))\n",
    "    #learning_rate=0.1\n",
    "    learning_rate = 0.015\n",
    "    model.compile(loss=sparse_categorical_crossentropy,\n",
    "                  optimizer=Adam(learning_rate),\n",
    "                  metrics=['accuracy'])\n",
    "    return model\n",
    "tests.test_simple_model(simple_model)\n",
    "\n",
    "\n",
    "# Reshaping the input to work with a basic RNN\n",
    "tmp_x = pad(preproc_english_sentences, preproc_french_sentences.shape[1])\n",
    "tmp_x = tmp_x.reshape((-1, preproc_french_sentences.shape[-2], 1))\n",
    "\n",
    "# Train the neural network\n",
    "simple_rnn_model = simple_model(\n",
    "    tmp_x.shape,\n",
    "    preproc_french_sentences.shape[1],\n",
    "    len(english_tokenizer.word_index)+1,\n",
    "    len(french_tokenizer.word_index)+1)\n",
    "simple_rnn_model.fit(tmp_x, preproc_french_sentences, batch_size=1024, epochs=10, validation_split=0.2)\n",
    "\n",
    "# Print prediction(s)\n",
    "print(logits_to_text(simple_rnn_model.predict(tmp_x[:1])[0], french_tokenizer))"
   ]
  },
  {
   "cell_type": "code",
   "execution_count": 25,
   "metadata": {},
   "outputs": [
    {
     "name": "stdout",
     "output_type": "stream",
     "text": [
      "états citron est son fruit préféré plus mais la la est est moins plus aimé <PAD> <PAD> <PAD> <PAD> <PAD> <PAD>\n"
     ]
    }
   ],
   "source": [
    "print(logits_to_text(simple_rnn_model.predict(tmp_x[10:20])[0], french_tokenizer))"
   ]
  },
  {
   "cell_type": "markdown",
   "metadata": {},
   "source": [
    "### Model 2: Embedding (IMPLEMENTATION)\n",
    "![RNN](images/embedding.png)\n",
    "You've turned the words into ids, but there's a better representation of a word.  This is called word embeddings.  An embedding is a vector representation of the word that is close to similar words in n-dimensional space, where the n represents the size of the embedding vectors.\n",
    "\n",
    "In this model, you'll create a RNN model using embedding."
   ]
  },
  {
   "cell_type": "code",
   "execution_count": 28,
   "metadata": {},
   "outputs": [
    {
     "data": {
      "text/plain": [
       "21"
      ]
     },
     "execution_count": 28,
     "metadata": {},
     "output_type": "execute_result"
    }
   ],
   "source": [
    "pad(preproc_english_sentences, preproc_french_sentences.shape[1]).shape[1]"
   ]
  },
  {
   "cell_type": "code",
   "execution_count": 47,
   "metadata": {},
   "outputs": [
    {
     "name": "stdout",
     "output_type": "stream",
     "text": [
      "Train on 110288 samples, validate on 27573 samples\n",
      "Epoch 1/10\n",
      "110288/110288 [==============================] - 446s - loss: 3.8336 - acc: 0.4480 - val_loss: 2.5279 - val_acc: 0.5239\n",
      "Epoch 2/10\n",
      "110288/110288 [==============================] - 447s - loss: 2.0025 - acc: 0.5776 - val_loss: 1.5626 - val_acc: 0.6393\n",
      "Epoch 3/10\n",
      "110288/110288 [==============================] - 447s - loss: 1.2879 - acc: 0.6990 - val_loss: 1.0061 - val_acc: 0.7638\n",
      "Epoch 4/10\n",
      "110288/110288 [==============================] - 446s - loss: 0.8059 - acc: 0.8075 - val_loss: 0.6367 - val_acc: 0.8422\n",
      "Epoch 5/10\n",
      "110288/110288 [==============================] - 446s - loss: 0.5345 - acc: 0.8600 - val_loss: 0.4595 - val_acc: 0.8746\n",
      "Epoch 6/10\n",
      "110288/110288 [==============================] - 446s - loss: 0.4112 - acc: 0.8835 - val_loss: 0.3710 - val_acc: 0.8931\n",
      "Epoch 7/10\n",
      "110288/110288 [==============================] - 446s - loss: 0.3534 - acc: 0.8958 - val_loss: 0.3359 - val_acc: 0.9000\n",
      "Epoch 8/10\n",
      "110288/110288 [==============================] - 446s - loss: 0.3195 - acc: 0.9033 - val_loss: 0.3071 - val_acc: 0.9076\n",
      "Epoch 9/10\n",
      "110288/110288 [==============================] - 446s - loss: 0.2950 - acc: 0.9095 - val_loss: 0.2909 - val_acc: 0.9114\n",
      "Epoch 10/10\n",
      "110288/110288 [==============================] - 446s - loss: 0.2759 - acc: 0.9141 - val_loss: 0.2713 - val_acc: 0.9168\n",
      "new jersey est parfois calme en l' automne et il est neigeux en avril <PAD> <PAD> <PAD> <PAD> <PAD> <PAD> <PAD>\n"
     ]
    }
   ],
   "source": [
    "from keras.layers.embeddings import Embedding\n",
    "\n",
    "\n",
    "def embed_model(input_shape, output_sequence_length, english_vocab_size, french_vocab_size):\n",
    "    \"\"\"\n",
    "    Build and train a RNN model using word embedding on x and y\n",
    "    :param input_shape: Tuple of input shape\n",
    "    :param output_sequence_length: Length of output sequence\n",
    "    :param english_vocab_size: Number of unique English words in the dataset\n",
    "    :param french_vocab_size: Number of unique French words in the dataset\n",
    "    :return: Keras model built, but not trained\n",
    "    \"\"\"\n",
    "    # TODO: Implement\n",
    "    model = Sequential()\n",
    "    #model.add(SimpleRNN(output_sequence_length,activation=None, input_shape=input_shape[1:], return_sequences = True))\n",
    "    model.add(Embedding(english_vocab_size+1,output_sequence_length, input_length=input_shape[1]))\n",
    "    model.add(GRU(french_vocab_size,activation=None, input_shape=input_shape[1:], return_sequences = True))\n",
    "    ##model.add(Dense(french_vocab_size))\n",
    "    model.add(Activation('softmax'))\n",
    "    #learning_rate=0.1\n",
    "    learning_rate = 0.005\n",
    "    model.compile(loss=sparse_categorical_crossentropy,\n",
    "                  optimizer=Adam(learning_rate),\n",
    "                  metrics=['accuracy'])\n",
    "    return model\n",
    "tests.test_embed_model(embed_model)\n",
    "\n",
    "tmp_x = pad(preproc_english_sentences, preproc_french_sentences.shape[1])\n",
    "tmp_x = tmp_x.reshape((-1, preproc_french_sentences.shape[-2],1))\n",
    "\n",
    "# Train the neural network\n",
    "embed_rnn_model = embed_model(\n",
    "    tmp_x.shape,\n",
    "    preproc_french_sentences.shape[1],\n",
    "    len(english_tokenizer.word_index)+1,\n",
    "    len(french_tokenizer.word_index)+1)\n",
    "embed_rnn_model.fit(tmp_x, preproc_french_sentences, batch_size=1024, epochs=10, validation_split=0.2)\n",
    "\n",
    "# Print prediction(s)\n",
    "print(logits_to_text(embed_rnn_model.predict(tmp_x[:1])[0], french_tokenizer))\n",
    "\n",
    "# TODO: Reshape the input\n",
    "\n",
    "# TODO: Train the neural network\n",
    "\n",
    "# TODO: Print prediction(s)"
   ]
  },
  {
   "cell_type": "code",
   "execution_count": 56,
   "metadata": {},
   "outputs": [
    {
     "name": "stdout",
     "output_type": "stream",
     "text": [
      "les chaux est son fruit aimé des fruits mais la banane est moins moins <PAD> <PAD> <PAD> <PAD> <PAD> <PAD> <PAD>\n"
     ]
    }
   ],
   "source": [
    "tmp_x = pad(preproc_english_sentences, preproc_french_sentences.shape[1])\n",
    "tmp_x = tmp_x.reshape((-1, preproc_french_sentences.shape[-2]))\n",
    "print(logits_to_text(embed_rnn_model.predict(tmp_x[10:20])[0], french_tokenizer))"
   ]
  },
  {
   "cell_type": "markdown",
   "metadata": {},
   "source": [
    "### Model 3: Bidirectional RNNs (IMPLEMENTATION)\n",
    "![RNN](images/bidirectional.png)\n",
    "One restriction of a RNN is that it can't see the future input, only the past.  This is where bidirectional recurrent neural networks come in.  They are able to see the future data."
   ]
  },
  {
   "cell_type": "code",
   "execution_count": null,
   "metadata": {},
   "outputs": [
    {
     "name": "stdout",
     "output_type": "stream",
     "text": [
      "Train on 110288 samples, validate on 27573 samples\n",
      "Epoch 1/10\n",
      "110288/110288 [==============================] - 749s - loss: 1.8462 - acc: 0.5738 - val_loss: 1.3927 - val_acc: 0.6249\n",
      "Epoch 2/10\n",
      "110288/110288 [==============================] - 750s - loss: 1.3072 - acc: 0.6319 - val_loss: 1.2192 - val_acc: 0.6457\n",
      "Epoch 3/10\n",
      "110288/110288 [==============================] - 751s - loss: 1.1896 - acc: 0.6512 - val_loss: 1.1315 - val_acc: 0.6588\n",
      "Epoch 4/10\n",
      "110288/110288 [==============================] - 751s - loss: 1.1284 - acc: 0.6662 - val_loss: 1.0715 - val_acc: 0.6808\n",
      "Epoch 5/10\n",
      "110288/110288 [==============================] - 752s - loss: 1.0619 - acc: 0.6787 - val_loss: 1.1176 - val_acc: 0.6590\n",
      "Epoch 6/10\n",
      "110288/110288 [==============================] - 752s - loss: 1.0014 - acc: 0.6932 - val_loss: 0.9912 - val_acc: 0.6914\n",
      "Epoch 7/10\n",
      "110288/110288 [==============================] - 751s - loss: 0.9638 - acc: 0.7033 - val_loss: 0.9176 - val_acc: 0.7181\n",
      "Epoch 8/10\n",
      "110288/110288 [==============================] - 751s - loss: 0.9202 - acc: 0.7145 - val_loss: 1.0352 - val_acc: 0.6922\n",
      "Epoch 9/10\n",
      "110288/110288 [==============================] - 751s - loss: 0.9354 - acc: 0.7148 - val_loss: 0.8823 - val_acc: 0.7239\n",
      "Epoch 10/10\n",
      "110288/110288 [==============================] - 751s - loss: 0.8772 - acc: 0.7252 - val_loss: 0.9155 - val_acc: 0.7155\n",
      "new jersey est parfois chaud en l' de mai et il est en en novembre <PAD> <PAD> <PAD> <PAD> <PAD> <PAD>\n"
     ]
    }
   ],
   "source": [
    "from keras.layers import GRU, Input, Dense, TimeDistributed\n",
    "from keras.models import Model, Sequential\n",
    "from keras.layers import Activation, SimpleRNN\n",
    "from keras.optimizers import Adam\n",
    "from keras.losses import sparse_categorical_crossentropy\n",
    "from keras.layers import Bidirectional\n",
    "\n",
    "\n",
    "def bd_model(input_shape, output_sequence_length, english_vocab_size, french_vocab_size):\n",
    "    \"\"\"\n",
    "    Build and train a bidirectional RNN model on x and y\n",
    "    :param input_shape: Tuple of input shape\n",
    "    :param output_sequence_length: Length of output sequence\n",
    "    :param english_vocab_size: Number of unique English words in the dataset\n",
    "    :param french_vocab_size: Number of unique French words in the dataset\n",
    "    :return: Keras model built, but not trained\n",
    "    \"\"\"\n",
    "    model = Sequential()\n",
    "    #model.add(SimpleRNN(output_sequence_length,activation=None, input_shape=input_shape[1:], return_sequences = True))\n",
    "    #model.add(Embedding(english_vocab_size+1,output_sequence_length, input_length=input_shape[1]))\n",
    "    model.add(Bidirectional(GRU(french_vocab_size,activation=None, return_sequences = True), input_shape=input_shape[1:],merge_mode='ave'))\n",
    "    model.add(Activation('softmax'))\n",
    "    #learning_rate=0.1\n",
    "    learning_rate = 0.005\n",
    "    model.compile(loss=sparse_categorical_crossentropy,\n",
    "                  optimizer=Adam(learning_rate),\n",
    "                  metrics=['accuracy'])\n",
    "    return model\n",
    "tests.test_bd_model(bd_model)\n",
    "\n",
    "# TODO: Train and Print prediction(s)\n",
    "tmp_x = pad(preproc_english_sentences, preproc_french_sentences.shape[1])\n",
    "tmp_x = tmp_x.reshape((-1, preproc_french_sentences.shape[-2], 1))\n",
    "\n",
    "# Train the neural network\n",
    "bidirectional_rnn_model = bd_model(\n",
    "    tmp_x.shape,\n",
    "    preproc_french_sentences.shape[1],\n",
    "    len(english_tokenizer.word_index)+1,\n",
    "    len(french_tokenizer.word_index)+1)\n",
    "bidirectional_rnn_model.fit(tmp_x, preproc_french_sentences, batch_size=1024, epochs=10, validation_split=0.2)\n",
    "\n",
    "# Print prediction(s)\n",
    "print(logits_to_text(bidirectional_rnn_model.predict(tmp_x[:1])[0], french_tokenizer))"
   ]
  },
  {
   "cell_type": "code",
   "execution_count": 52,
   "metadata": {},
   "outputs": [
    {
     "name": "stdout",
     "output_type": "stream",
     "text": [
      "la citron est la moins aimé des fruits la la est est votre moins aimé <PAD> <PAD> <PAD> <PAD> <PAD> <PAD>\n"
     ]
    }
   ],
   "source": [
    "print(logits_to_text(bidirectional_rnn_model.predict(tmp_x[10:20])[0], french_tokenizer))"
   ]
  },
  {
   "cell_type": "markdown",
   "metadata": {},
   "source": [
    "### Model 4: Encoder-Decoder (OPTIONAL)\n",
    "Time to look at encoder-decoder models.  This model is made up of an encoder and decoder. The encoder creates a matrix representation of the sentence.  The decoder takes this matrix as input and predicts the translation as output.\n",
    "\n",
    "Create an encoder-decoder model in the cell below."
   ]
  },
  {
   "cell_type": "code",
   "execution_count": 94,
   "metadata": {},
   "outputs": [
    {
     "name": "stdout",
     "output_type": "stream",
     "text": [
      "(137861, 15, 1)\n",
      "(137861, 21, 1)\n",
      "Train on 110288 samples, validate on 27573 samples\n",
      "Epoch 1/10\n",
      "110288/110288 [==============================] - 192s - loss: 2.3748 - acc: 0.4750 - val_loss: 1.7634 - val_acc: 0.5478\n",
      "Epoch 2/10\n",
      "110288/110288 [==============================] - 206s - loss: 1.5450 - acc: 0.5797 - val_loss: 1.3636 - val_acc: 0.6104\n",
      "Epoch 3/10\n",
      "110288/110288 [==============================] - 205s - loss: 1.3059 - acc: 0.6203 - val_loss: 1.2420 - val_acc: 0.6322\n",
      "Epoch 4/10\n",
      "110288/110288 [==============================] - 200s - loss: 1.2066 - acc: 0.6401 - val_loss: 1.1366 - val_acc: 0.6552\n",
      "Epoch 5/10\n",
      "110288/110288 [==============================] - 198s - loss: 1.1197 - acc: 0.6578 - val_loss: 1.0546 - val_acc: 0.6704\n",
      "Epoch 6/10\n",
      "110288/110288 [==============================] - 195s - loss: 1.0700 - acc: 0.6681 - val_loss: 1.0242 - val_acc: 0.6778\n",
      "Epoch 7/10\n",
      "110288/110288 [==============================] - 195s - loss: 1.0010 - acc: 0.6820 - val_loss: 0.9578 - val_acc: 0.6903\n",
      "Epoch 8/10\n",
      "110288/110288 [==============================] - 196s - loss: 0.9554 - acc: 0.6911 - val_loss: 1.0074 - val_acc: 0.6815\n",
      "Epoch 9/10\n",
      "110288/110288 [==============================] - 195s - loss: 0.9451 - acc: 0.6929 - val_loss: 0.9802 - val_acc: 0.6831\n",
      "Epoch 10/10\n",
      "110288/110288 [==============================] - 194s - loss: 0.9070 - acc: 0.7024 - val_loss: 0.8616 - val_acc: 0.7143\n",
      "new jersey est parfois calme en mois de il est il est en <PAD> <PAD> <PAD> <PAD> <PAD> <PAD> <PAD> <PAD>\n"
     ]
    }
   ],
   "source": [
    "from keras.layers import RepeatVector,Reshape\n",
    "from keras.layers import GRU, Input, Dense, TimeDistributed\n",
    "from keras.models import Model, Sequential\n",
    "from keras.layers import Activation, SimpleRNN\n",
    "from keras.optimizers import Adam\n",
    "from keras.losses import sparse_categorical_crossentropy\n",
    "\n",
    "\n",
    "def encdec_model(input_shape, output_sequence_length, english_vocab_size, french_vocab_size):\n",
    "    \"\"\"\n",
    "    Build and train an encoder-decoder model on x and y\n",
    "    :param input_shape: Tuple of input shape\n",
    "    :param output_sequence_length: Length of output sequence\n",
    "    :param english_vocab_size: Number of unique English words in the dataset\n",
    "    :param french_vocab_size: Number of unique French words in the dataset\n",
    "    :return: Keras model built, but not trained\n",
    "    \"\"\"\n",
    "    # OPTIONAL: Implement\n",
    "    print(input_shape)\n",
    "    #model.add(SimpleRNN(output_sequence_length,activation=None, input_shape=input_shape[1:], return_sequences = True))\n",
    "    model = Sequential()\n",
    "    ## Encoding layer\n",
    "    #encoding = Dense(100,input_shape=input_shape[1:])\n",
    "    ## Rnn\n",
    "    rnn = GRU(100,activation=None,input_shape=input_shape[1:])\n",
    "    model.add(rnn)\n",
    "    repeat = RepeatVector(output_sequence_length)\n",
    "    model.add(repeat)\n",
    "    rnn2 = GRU(100,activation=None,return_sequences=True)\n",
    "    model.add(rnn2)\n",
    "    ## Decoding layer\n",
    "    decoding = TimeDistributed(Dense(french_vocab_size, activation='softmax'))\n",
    "    model.add(decoding)\n",
    "    ## Activation layer\n",
    "    #learning_rate=0.1\n",
    "    learning_rate = 0.005\n",
    "\n",
    "    model.compile(loss=sparse_categorical_crossentropy,\n",
    "                  optimizer=Adam(learning_rate),\n",
    "                  metrics=['accuracy'])\n",
    "    return model\n",
    "tmp_x = pad(preproc_english_sentences, preproc_french_sentences.shape[1])\n",
    "tmp_x = tmp_x.reshape((-1, preproc_french_sentences.shape[-2]))\n",
    "\n",
    "#print(tmp_x)\n",
    "tests.test_encdec_model(encdec_model)\n",
    "\n",
    "# Reshaping the input to work with a basic RNN\n",
    "tmp_x = pad(preproc_english_sentences, preproc_french_sentences.shape[1])\n",
    "tmp_x = tmp_x.reshape((-1, preproc_french_sentences.shape[-2], 1))\n",
    "\n",
    "# Train the neural network\n",
    "encdec_rnn_model = encdec_model(\n",
    "    tmp_x.shape,\n",
    "    preproc_french_sentences.shape[1],\n",
    "    len(english_tokenizer.word_index)+1,\n",
    "    len(french_tokenizer.word_index)+1)\n",
    "encdec_rnn_model.fit(tmp_x, preproc_french_sentences, batch_size=1024, epochs=10, validation_split=0.2)\n",
    "\n",
    "# Print prediction(s)\n",
    "print(logits_to_text(encdec_rnn_model.predict(tmp_x[:1])[0], french_tokenizer))\n",
    "\n",
    "\n",
    "\n",
    "# OPTIONAL: Train and Print prediction(s)"
   ]
  },
  {
   "cell_type": "markdown",
   "metadata": {},
   "source": [
    "### Model 5: Custom (IMPLEMENTATION)\n",
    "Use everything you learned from the previous models to create a model that incorporates embedding and a bidirectional rnn into one model."
   ]
  },
  {
   "cell_type": "code",
   "execution_count": 121,
   "metadata": {},
   "outputs": [
    {
     "name": "stdout",
     "output_type": "stream",
     "text": [
      "Train on 110288 samples, validate on 27573 samples\n",
      "Epoch 1/20\n",
      "110288/110288 [==============================] - 841s - loss: 3.1380 - acc: 0.4216 - val_loss: 2.5993 - val_acc: 0.4403\n",
      "Epoch 2/20\n",
      "110288/110288 [==============================] - 870s - loss: 2.4354 - acc: 0.4659 - val_loss: 2.2979 - val_acc: 0.4922\n",
      "Epoch 3/20\n",
      "110288/110288 [==============================] - 886s - loss: 1.9416 - acc: 0.5365 - val_loss: 1.7085 - val_acc: 0.5676\n",
      "Epoch 4/20\n",
      "110288/110288 [==============================] - 906s - loss: 1.5691 - acc: 0.5783 - val_loss: 1.4703 - val_acc: 0.5987\n",
      "Epoch 5/20\n",
      "110288/110288 [==============================] - 941s - loss: 1.4203 - acc: 0.6089 - val_loss: 1.7594 - val_acc: 0.5353\n",
      "Epoch 6/20\n",
      "110288/110288 [==============================] - 948s - loss: 1.3122 - acc: 0.6351 - val_loss: 1.2195 - val_acc: 0.6620\n",
      "Epoch 7/20\n",
      "110288/110288 [==============================] - 960s - loss: 1.1666 - acc: 0.6720 - val_loss: 1.1839 - val_acc: 0.6701\n",
      "Epoch 8/20\n",
      "110288/110288 [==============================] - 961s - loss: 1.1060 - acc: 0.6848 - val_loss: 1.0432 - val_acc: 0.6997\n",
      "Epoch 9/20\n",
      "110288/110288 [==============================] - 960s - loss: 1.0743 - acc: 0.6905 - val_loss: 1.0019 - val_acc: 0.7056\n",
      "Epoch 10/20\n",
      "110288/110288 [==============================] - 967s - loss: 0.9843 - acc: 0.7101 - val_loss: 1.0106 - val_acc: 0.7016\n",
      "Epoch 11/20\n",
      "110288/110288 [==============================] - 968s - loss: 0.9366 - acc: 0.7194 - val_loss: 0.8848 - val_acc: 0.7337\n",
      "Epoch 12/20\n",
      "110288/110288 [==============================] - 967s - loss: 0.8629 - acc: 0.7353 - val_loss: 0.8583 - val_acc: 0.7382\n",
      "Epoch 13/20\n",
      "110288/110288 [==============================] - 969s - loss: 0.8224 - acc: 0.7446 - val_loss: 0.8478 - val_acc: 0.7383\n",
      "Epoch 14/20\n",
      "110288/110288 [==============================] - 970s - loss: 0.7845 - acc: 0.7531 - val_loss: 2.1426 - val_acc: 0.5508\n",
      "Epoch 15/20\n",
      "110288/110288 [==============================] - 942s - loss: 0.9692 - acc: 0.7163 - val_loss: 0.7444 - val_acc: 0.7650\n",
      "Epoch 16/20\n",
      "110288/110288 [==============================] - 970s - loss: 0.7169 - acc: 0.7710 - val_loss: 0.7029 - val_acc: 0.7720\n",
      "Epoch 17/20\n",
      "110288/110288 [==============================] - 973s - loss: 0.6999 - acc: 0.7748 - val_loss: 0.6891 - val_acc: 0.7788\n",
      "Epoch 18/20\n",
      "110288/110288 [==============================] - 971s - loss: 0.6596 - acc: 0.7860 - val_loss: 0.6343 - val_acc: 0.7948\n",
      "Epoch 19/20\n",
      "110288/110288 [==============================] - 968s - loss: 0.6079 - acc: 0.8003 - val_loss: 0.6099 - val_acc: 0.8024\n",
      "Epoch 20/20\n",
      "110288/110288 [==============================] - 954s - loss: 0.7626 - acc: 0.7683 - val_loss: 0.7536 - val_acc: 0.7677\n",
      "new jersey est généralement froid pendant l' de il est est en en <PAD> <PAD> <PAD> <PAD> <PAD> <PAD> <PAD> <PAD>\n",
      "Final Model Loaded\n"
     ]
    }
   ],
   "source": [
    "from keras.layers import GRU, Input, Dense, TimeDistributed\n",
    "from keras.models import Model, Sequential\n",
    "from keras.layers import Activation, SimpleRNN\n",
    "from keras.optimizers import Adam\n",
    "from keras.losses import sparse_categorical_crossentropy\n",
    "from keras.layers import Bidirectional\n",
    "from keras.layers.embeddings import Embedding\n",
    "\n",
    "def model_final(input_shape, output_sequence_length, english_vocab_size, french_vocab_size):\n",
    "    \"\"\"\n",
    "    Build and train a model that incorporates embedding, encoder-decoder, and bidirectional RNN on x and y\n",
    "    :param input_shape: Tuple of input shape\n",
    "    :param output_sequence_length: Length of output sequence\n",
    "    :param english_vocab_size: Number of unique English words in the dataset\n",
    "    :param french_vocab_size: Number of unique French words in the dataset\n",
    "    :return: Keras model built, but not trained\n",
    "    \"\"\"\n",
    "    # TODO: Implement\n",
    "    model = Sequential()\n",
    "    #model.add(SimpleRNN(output_sequence_length,activation=None, input_shape=input_shape[1:], return_sequences = True))\n",
    "    # Embedding\n",
    "    model.add(Embedding(english_vocab_size+1,output_sequence_length,input_length=input_shape[1]))\n",
    "    # Encoding\n",
    "    encoding = GRU(256,activation='relu',input_shape=input_shape[1:])\n",
    "    model.add(encoding)\n",
    "    repeat = RepeatVector(output_sequence_length)\n",
    "    model.add(repeat)\n",
    "    # Bidirectional rnn\n",
    "    model.add(Bidirectional(GRU(256,activation='relu',return_sequences = True)))\n",
    "    # Decoding\n",
    "    model.add(TimeDistributed(Dense(256, activation='relu')))\n",
    "    \n",
    "    model.add(TimeDistributed(Dense(french_vocab_size, activation='softmax')))\n",
    "    # Activation\n",
    "#    model.add(Activation('softmax'))\n",
    "    #learning_rate=0.1\n",
    "    learning_rate = 0.0025\n",
    "    model.compile(loss=sparse_categorical_crossentropy,\n",
    "                  optimizer=Adam(learning_rate),\n",
    "                  metrics=['accuracy'])\n",
    "    return model\n",
    "tests.test_model_final(model_final)\n",
    "\n",
    "tmp_x = pad(preproc_english_sentences, preproc_french_sentences.shape[1])\n",
    "tmp_x = tmp_x.reshape((-1, preproc_french_sentences.shape[-2]))\n",
    "\n",
    "# Train the neural network\n",
    "final_rnn_model = model_final(\n",
    "    tmp_x.shape,\n",
    "    preproc_french_sentences.shape[1],\n",
    "    len(english_tokenizer.word_index)+1,\n",
    "    len(french_tokenizer.word_index)+1)\n",
    "final_rnn_model.fit(tmp_x, preproc_french_sentences, batch_size=1024, epochs=20, validation_split=0.2)\n",
    "\n",
    "# Print prediction(s)\n",
    "print(logits_to_text(final_rnn_model.predict(tmp_x[:1])[0], french_tokenizer))\n",
    "\n",
    "print('Final Model Loaded')"
   ]
  },
  {
   "cell_type": "code",
   "execution_count": 134,
   "metadata": {},
   "outputs": [
    {
     "name": "stdout",
     "output_type": "stream",
     "text": [
      "new jersey est généralement froid pendant l' de il est est en en <PAD> <PAD> <PAD> <PAD> <PAD> <PAD> <PAD> <PAD>\n"
     ]
    }
   ],
   "source": [
    "print(logits_to_text(final_rnn_model.predict(tmp_x[0:10])[0], french_tokenizer))"
   ]
  },
  {
   "cell_type": "markdown",
   "metadata": {},
   "source": [
    "## Prediction (IMPLEMENTATION)"
   ]
  },
  {
   "cell_type": "code",
   "execution_count": 136,
   "metadata": {},
   "outputs": [
    {
     "name": "stdout",
     "output_type": "stream",
     "text": [
      "Train on 110288 samples, validate on 27573 samples\n",
      "Epoch 1/15\n",
      "110288/110288 [==============================] - 840s - loss: 3.1337 - acc: 0.4213 - val_loss: 2.5961 - val_acc: 0.4421\n",
      "Epoch 2/15\n",
      "110288/110288 [==============================] - 862s - loss: 2.4825 - acc: 0.4712 - val_loss: 2.2565 - val_acc: 0.5095\n",
      "Epoch 3/15\n",
      "110288/110288 [==============================] - 879s - loss: 2.0799 - acc: 0.5284 - val_loss: 1.8673 - val_acc: 0.5579\n",
      "Epoch 4/15\n",
      "110288/110288 [==============================] - 883s - loss: 1.8230 - acc: 0.5475 - val_loss: 1.7125 - val_acc: 0.5547\n",
      "Epoch 5/15\n",
      "110288/110288 [==============================] - 884s - loss: 1.5975 - acc: 0.5727 - val_loss: 1.5095 - val_acc: 0.5850\n",
      "Epoch 6/15\n",
      "110288/110288 [==============================] - 886s - loss: 1.5303 - acc: 0.5834 - val_loss: 1.4778 - val_acc: 0.5889\n",
      "Epoch 7/15\n",
      "110288/110288 [==============================] - 893s - loss: 1.4846 - acc: 0.5931 - val_loss: 1.4204 - val_acc: 0.6056\n",
      "Epoch 8/15\n",
      "110288/110288 [==============================] - 918s - loss: 1.3989 - acc: 0.6121 - val_loss: 1.3951 - val_acc: 0.6078\n",
      "Epoch 9/15\n",
      "110288/110288 [==============================] - 918s - loss: 1.3891 - acc: 0.6137 - val_loss: 1.3350 - val_acc: 0.6259\n",
      "Epoch 10/15\n",
      "110288/110288 [==============================] - 922s - loss: 1.3503 - acc: 0.6252 - val_loss: 1.2850 - val_acc: 0.6383\n",
      "Epoch 11/15\n",
      "110288/110288 [==============================] - 924s - loss: 1.2833 - acc: 0.6389 - val_loss: 1.2594 - val_acc: 0.6449\n",
      "Epoch 12/15\n",
      "110288/110288 [==============================] - 920s - loss: 1.2295 - acc: 0.6522 - val_loss: 1.1642 - val_acc: 0.6689\n",
      "Epoch 13/15\n",
      "110288/110288 [==============================] - 935s - loss: 1.1224 - acc: 0.6782 - val_loss: 1.1002 - val_acc: 0.6831\n",
      "Epoch 14/15\n",
      "110288/110288 [==============================] - 937s - loss: 1.0917 - acc: 0.6852 - val_loss: 1.0772 - val_acc: 0.6887\n",
      "Epoch 15/15\n",
      "110288/110288 [==============================] - 923s - loss: 1.1382 - acc: 0.6746 - val_loss: 1.0723 - val_acc: 0.6918\n",
      "Sample 1:\n",
      "elle a vu le d' camion blanc <PAD> <PAD> <PAD> <PAD> <PAD> <PAD> <PAD> <PAD> <PAD> <PAD> <PAD> <PAD> <PAD> <PAD>\n",
      "Il a vu un vieux camion jaune\n",
      "Sample 2:\n",
      "les les états états unis est jamais jamais au au l' de août il est parfois parfois <PAD> <PAD> <PAD> <PAD>\n",
      "<PAD> <PAD> <PAD> <PAD> <PAD> <PAD> <PAD> <PAD> <PAD> <PAD> <PAD> <PAD> <PAD> <PAD> <PAD> <PAD> <PAD> <PAD> <PAD> <PAD> <PAD>\n"
     ]
    }
   ],
   "source": [
    "import numpy as np\n",
    "from keras.preprocessing.sequence import pad_sequences\n",
    "\n",
    "\n",
    "def final_predictions(x, y, x_tk, y_tk):\n",
    "    \"\"\"\n",
    "    Gets predictions using the final model\n",
    "    :param x: Preprocessed English data\n",
    "    :param y: Preprocessed French data\n",
    "    :param x_tk: English tokenizer\n",
    "    :param y_tk: French tokenizer\n",
    "    \"\"\"\n",
    "    # TODO: Train neural network using model_final\n",
    "    tmp_x = pad(x, y.shape[1])\n",
    "    tmp_x = tmp_x.reshape((-1, y.shape[-2]))\n",
    "    model = model_final((None,None), y.shape[1], len(x_tk.word_index)+1, len(y_tk.word_index)+1)\n",
    "    model.fit(tmp_x, y, batch_size=2048, epochs=15, validation_split=0.2)\n",
    "\n",
    "    \n",
    "    ## DON'T EDIT ANYTHING BELOW THIS LINE\n",
    "    y_id_to_word = {value: key for key, value in y_tk.word_index.items()}\n",
    "    y_id_to_word[0] = '<PAD>'\n",
    "\n",
    "    sentence = 'he saw a old yellow truck'\n",
    "    sentence = [x_tk.word_index[word] for word in sentence.split()]\n",
    "    sentence = pad_sequences([sentence], maxlen=x.shape[-1], padding='post')\n",
    "    sentences = np.array([sentence[0], x[0]])\n",
    "    predictions = model.predict(sentences, len(sentences))\n",
    "\n",
    "    print('Sample 1:')\n",
    "    print(' '.join([y_id_to_word[np.argmax(x)] for x in predictions[0]]))\n",
    "    print('Il a vu un vieux camion jaune')\n",
    "    print('Sample 2:')\n",
    "    print(' '.join([y_id_to_word[np.argmax(x)] for x in predictions[1]]))\n",
    "    print(' '.join([y_id_to_word[np.argmax(x)] for x in y[0]]))\n",
    "\n",
    "\n",
    "final_predictions(preproc_english_sentences, preproc_french_sentences, english_tokenizer, french_tokenizer)"
   ]
  },
  {
   "cell_type": "markdown",
   "metadata": {},
   "source": [
    "## Submission\n",
    "When you are ready to submit your project, do the following steps:\n",
    "1. Ensure you pass all points on the [rubric](https://review.udacity.com/#!/rubrics/1004/view).\n",
    "2. Submit the following in a zip file.\n",
    "  - `helper.py`\n",
    "  - `machine_translation.ipynb`\n",
    "  - `machine_translation.html`\n",
    "    - You can export the notebook by navigating to **File -> Download as -> HTML (.html)**."
   ]
  }
 ],
 "metadata": {
  "kernelspec": {
   "display_name": "Python 3",
   "language": "python",
   "name": "python3"
  },
  "language_info": {
   "codemirror_mode": {
    "name": "ipython",
    "version": 3
   },
   "file_extension": ".py",
   "mimetype": "text/x-python",
   "name": "python",
   "nbconvert_exporter": "python",
   "pygments_lexer": "ipython3",
   "version": "3.6.1"
  }
 },
 "nbformat": 4,
 "nbformat_minor": 1
}
